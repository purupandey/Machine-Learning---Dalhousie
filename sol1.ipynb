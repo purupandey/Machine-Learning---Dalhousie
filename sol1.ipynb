{
 "cells": [
  {
   "cell_type": "markdown",
   "metadata": {},
   "source": [
    "# Question 1"
   ]
  },
  {
   "cell_type": "markdown",
   "metadata": {
    "collapsed": true
   },
   "source": [
    "## Section 1.1"
   ]
  },
  {
   "cell_type": "code",
   "execution_count": 1,
   "metadata": {
    "collapsed": false
   },
   "outputs": [],
   "source": [
    "import numpy as np"
   ]
  },
  {
   "cell_type": "code",
   "execution_count": 2,
   "metadata": {
    "collapsed": false
   },
   "outputs": [],
   "source": [
    "# Load the iris dataset from the fisheriris.data file and place them in an array iris_data numpy.genfromtxt\n",
    "iris_data = np.loadtxt('fisheriris.data',dtype = float, delimiter=',')"
   ]
  },
  {
   "cell_type": "code",
   "execution_count": 3,
   "metadata": {
    "collapsed": false
   },
   "outputs": [],
   "source": [
    "#Load the attributes from the attributes.txt file and place them in a list feature_names\n",
    "feature_names = list(np.genfromtxt('attributes.txt',dtype = str ,delimiter=','))"
   ]
  },
  {
   "cell_type": "code",
   "execution_count": 4,
   "metadata": {
    "collapsed": false
   },
   "outputs": [],
   "source": [
    "#Then load the feature names from the feature.txt file and place them in a vector target_names.\n",
    "target_names = np.genfromtxt('feature.txt',dtype = str ,delimiter = ',')"
   ]
  },
  {
   "cell_type": "code",
   "execution_count": null,
   "metadata": {
    "collapsed": false
   },
   "outputs": [],
   "source": [
    "'''\n",
    "Ans 1.1 :- The genfromtxt function provides more sophisticated handling of, e.g., lines with missing values.\n",
    "\n",
    "numpy.genfromtxt(fname, dtype=<type 'float'>, comments='#', delimiter=None, skip_header=0, skip_footer=0,\n",
    "                 converters=None, missing_values=None, filling_values=None, usecols=None, names=None, excludelist=None,\n",
    "                 deletechars=None, replace_space='_', autostrip=False, case_sensitive=True, defaultfmt='f%i',\n",
    "                 unpack=None, usemask=False, loose=True, invalid_raise=True, max_rows=None)\n",
    "                 \n",
    "numpy.loadtxt(fname, dtype=<type 'float'>, comments='#', delimiter=None, converters=None, skiprows=0, usecols=None,\n",
    "              unpack=False, ndmin=0)\n",
    "'''"
   ]
  },
  {
   "cell_type": "markdown",
   "metadata": {},
   "source": [
    "## Section 1.2"
   ]
  },
  {
   "cell_type": "code",
   "execution_count": 5,
   "metadata": {
    "collapsed": false
   },
   "outputs": [
    {
     "name": "stdout",
     "output_type": "stream",
     "text": [
      "Target labels are as follows :- \n",
      "[0 0 0 0 0 0 0 0 0 0 0 0 0 0 0 0 0 0 0 0 0 0 0 0 0 0 0 0 0 0 0 0 0 0 0 0 0\n",
      " 0 0 0 0 0 0 0 0 0 0 0 0 0 1 1 1 1 1 1 1 1 1 1 1 1 1 1 1 1 1 1 1 1 1 1 1 1\n",
      " 1 1 1 1 1 1 1 1 1 1 1 1 1 1 1 1 1 1 1 1 1 1 1 1 1 1 2 2 2 2 2 2 2 2 2 2 2\n",
      " 2 2 2 2 2 2 2 2 2 2 2 2 2 2 2 2 2 2 2 2 2 2 2 2 2 2 2 2 2 2 2 2 2 2 2 2 2\n",
      " 2 2]\n"
     ]
    }
   ],
   "source": [
    "# Pull out the column related to the class from the irirs_data array and place it in an integer vector named target.\n",
    "target = []\n",
    "for i in range(0,len(iris_data)):\n",
    "    target.append(iris_data[i][4])\n",
    "target = np.asarray(target, dtype= int)\n",
    "print('Target labels are as follows :- \\n' + str(target))"
   ]
  },
  {
   "cell_type": "code",
   "execution_count": 6,
   "metadata": {
    "collapsed": false
   },
   "outputs": [
    {
     "name": "stdout",
     "output_type": "stream",
     "text": [
      "Iris data after removing the class column :- \n",
      "[[ 5.1  3.5  1.4  0.2]\n",
      " [ 4.9  3.   1.4  0.2]\n",
      " [ 4.7  3.2  1.3  0.2]\n",
      " [ 4.6  3.1  1.5  0.2]\n",
      " [ 5.   3.6  1.4  0.2]\n",
      " [ 5.4  3.9  1.7  0.4]\n",
      " [ 4.6  3.4  1.4  0.3]\n",
      " [ 5.   3.4  1.5  0.2]\n",
      " [ 4.4  2.9  1.4  0.2]\n",
      " [ 4.9  3.1  1.5  0.1]\n",
      " [ 5.4  3.7  1.5  0.2]\n",
      " [ 4.8  3.4  1.6  0.2]\n",
      " [ 4.8  3.   1.4  0.1]\n",
      " [ 4.3  3.   1.1  0.1]\n",
      " [ 5.8  4.   1.2  0.2]\n",
      " [ 5.7  4.4  1.5  0.4]\n",
      " [ 5.4  3.9  1.3  0.4]\n",
      " [ 5.1  3.5  1.4  0.3]\n",
      " [ 5.7  3.8  1.7  0.3]\n",
      " [ 5.1  3.8  1.5  0.3]\n",
      " [ 5.4  3.4  1.7  0.2]\n",
      " [ 5.1  3.7  1.5  0.4]\n",
      " [ 4.6  3.6  1.   0.2]\n",
      " [ 5.1  3.3  1.7  0.5]\n",
      " [ 4.8  3.4  1.9  0.2]\n",
      " [ 5.   3.   1.6  0.2]\n",
      " [ 5.   3.4  1.6  0.4]\n",
      " [ 5.2  3.5  1.5  0.2]\n",
      " [ 5.2  3.4  1.4  0.2]\n",
      " [ 4.7  3.2  1.6  0.2]\n",
      " [ 4.8  3.1  1.6  0.2]\n",
      " [ 5.4  3.4  1.5  0.4]\n",
      " [ 5.2  4.1  1.5  0.1]\n",
      " [ 5.5  4.2  1.4  0.2]\n",
      " [ 4.9  3.1  1.5  0.1]\n",
      " [ 5.   3.2  1.2  0.2]\n",
      " [ 5.5  3.5  1.3  0.2]\n",
      " [ 4.9  3.1  1.5  0.1]\n",
      " [ 4.4  3.   1.3  0.2]\n",
      " [ 5.1  3.4  1.5  0.2]\n",
      " [ 5.   3.5  1.3  0.3]\n",
      " [ 4.5  2.3  1.3  0.3]\n",
      " [ 4.4  3.2  1.3  0.2]\n",
      " [ 5.   3.5  1.6  0.6]\n",
      " [ 5.1  3.8  1.9  0.4]\n",
      " [ 4.8  3.   1.4  0.3]\n",
      " [ 5.1  3.8  1.6  0.2]\n",
      " [ 4.6  3.2  1.4  0.2]\n",
      " [ 5.3  3.7  1.5  0.2]\n",
      " [ 5.   3.3  1.4  0.2]\n",
      " [ 7.   3.2  4.7  1.4]\n",
      " [ 6.4  3.2  4.5  1.5]\n",
      " [ 6.9  3.1  4.9  1.5]\n",
      " [ 5.5  2.3  4.   1.3]\n",
      " [ 6.5  2.8  4.6  1.5]\n",
      " [ 5.7  2.8  4.5  1.3]\n",
      " [ 6.3  3.3  4.7  1.6]\n",
      " [ 4.9  2.4  3.3  1. ]\n",
      " [ 6.6  2.9  4.6  1.3]\n",
      " [ 5.2  2.7  3.9  1.4]\n",
      " [ 5.   2.   3.5  1. ]\n",
      " [ 5.9  3.   4.2  1.5]\n",
      " [ 6.   2.2  4.   1. ]\n",
      " [ 6.1  2.9  4.7  1.4]\n",
      " [ 5.6  2.9  3.6  1.3]\n",
      " [ 6.7  3.1  4.4  1.4]\n",
      " [ 5.6  3.   4.5  1.5]\n",
      " [ 5.8  2.7  4.1  1. ]\n",
      " [ 6.2  2.2  4.5  1.5]\n",
      " [ 5.6  2.5  3.9  1.1]\n",
      " [ 5.9  3.2  4.8  1.8]\n",
      " [ 6.1  2.8  4.   1.3]\n",
      " [ 6.3  2.5  4.9  1.5]\n",
      " [ 6.1  2.8  4.7  1.2]\n",
      " [ 6.4  2.9  4.3  1.3]\n",
      " [ 6.6  3.   4.4  1.4]\n",
      " [ 6.8  2.8  4.8  1.4]\n",
      " [ 6.7  3.   5.   1.7]\n",
      " [ 6.   2.9  4.5  1.5]\n",
      " [ 5.7  2.6  3.5  1. ]\n",
      " [ 5.5  2.4  3.8  1.1]\n",
      " [ 5.5  2.4  3.7  1. ]\n",
      " [ 5.8  2.7  3.9  1.2]\n",
      " [ 6.   2.7  5.1  1.6]\n",
      " [ 5.4  3.   4.5  1.5]\n",
      " [ 6.   3.4  4.5  1.6]\n",
      " [ 6.7  3.1  4.7  1.5]\n",
      " [ 6.3  2.3  4.4  1.3]\n",
      " [ 5.6  3.   4.1  1.3]\n",
      " [ 5.5  2.5  4.   1.3]\n",
      " [ 5.5  2.6  4.4  1.2]\n",
      " [ 6.1  3.   4.6  1.4]\n",
      " [ 5.8  2.6  4.   1.2]\n",
      " [ 5.   2.3  3.3  1. ]\n",
      " [ 5.6  2.7  4.2  1.3]\n",
      " [ 5.7  3.   4.2  1.2]\n",
      " [ 5.7  2.9  4.2  1.3]\n",
      " [ 6.2  2.9  4.3  1.3]\n",
      " [ 5.1  2.5  3.   1.1]\n",
      " [ 5.7  2.8  4.1  1.3]\n",
      " [ 6.3  3.3  6.   2.5]\n",
      " [ 5.8  2.7  5.1  1.9]\n",
      " [ 7.1  3.   5.9  2.1]\n",
      " [ 6.3  2.9  5.6  1.8]\n",
      " [ 6.5  3.   5.8  2.2]\n",
      " [ 7.6  3.   6.6  2.1]\n",
      " [ 4.9  2.5  4.5  1.7]\n",
      " [ 7.3  2.9  6.3  1.8]\n",
      " [ 6.7  2.5  5.8  1.8]\n",
      " [ 7.2  3.6  6.1  2.5]\n",
      " [ 6.5  3.2  5.1  2. ]\n",
      " [ 6.4  2.7  5.3  1.9]\n",
      " [ 6.8  3.   5.5  2.1]\n",
      " [ 5.7  2.5  5.   2. ]\n",
      " [ 5.8  2.8  5.1  2.4]\n",
      " [ 6.4  3.2  5.3  2.3]\n",
      " [ 6.5  3.   5.5  1.8]\n",
      " [ 7.7  3.8  6.7  2.2]\n",
      " [ 7.7  2.6  6.9  2.3]\n",
      " [ 6.   2.2  5.   1.5]\n",
      " [ 6.9  3.2  5.7  2.3]\n",
      " [ 5.6  2.8  4.9  2. ]\n",
      " [ 7.7  2.8  6.7  2. ]\n",
      " [ 6.3  2.7  4.9  1.8]\n",
      " [ 6.7  3.3  5.7  2.1]\n",
      " [ 7.2  3.2  6.   1.8]\n",
      " [ 6.2  2.8  4.8  1.8]\n",
      " [ 6.1  3.   4.9  1.8]\n",
      " [ 6.4  2.8  5.6  2.1]\n",
      " [ 7.2  3.   5.8  1.6]\n",
      " [ 7.4  2.8  6.1  1.9]\n",
      " [ 7.9  3.8  6.4  2. ]\n",
      " [ 6.4  2.8  5.6  2.2]\n",
      " [ 6.3  2.8  5.1  1.5]\n",
      " [ 6.1  2.6  5.6  1.4]\n",
      " [ 7.7  3.   6.1  2.3]\n",
      " [ 6.3  3.4  5.6  2.4]\n",
      " [ 6.4  3.1  5.5  1.8]\n",
      " [ 6.   3.   4.8  1.8]\n",
      " [ 6.9  3.1  5.4  2.1]\n",
      " [ 6.7  3.1  5.6  2.4]\n",
      " [ 6.9  3.1  5.1  2.3]\n",
      " [ 5.8  2.7  5.1  1.9]\n",
      " [ 6.8  3.2  5.9  2.3]\n",
      " [ 6.7  3.3  5.7  2.5]\n",
      " [ 6.7  3.   5.2  2.3]\n",
      " [ 6.3  2.5  5.   1.9]\n",
      " [ 6.5  3.   5.2  2. ]\n",
      " [ 6.2  3.4  5.4  2.3]\n",
      " [ 5.9  3.   5.1  1.8]]\n"
     ]
    }
   ],
   "source": [
    "# Then remove the class column from the irirs_data array\n",
    "iris_data = np.delete(iris_data, [4], axis=1)\n",
    "print('Iris data after removing the class column :- \\n' + str(iris_data))"
   ]
  },
  {
   "cell_type": "code",
   "execution_count": 8,
   "metadata": {
    "collapsed": false
   },
   "outputs": [
    {
     "name": "stdout",
     "output_type": "stream",
     "text": [
      "Features list after removing class from it  :- \n",
      "['sepal length in cm', 'sepal width in cm', 'petal length in cm', 'petal width in cm']\n"
     ]
    }
   ],
   "source": [
    "# Remove the ‘Class’ from the feature_names list\n",
    "feature_names.remove('class')\n",
    "print('Features list after removing class from it  :- \\n' + str(feature_names))"
   ]
  },
  {
   "cell_type": "code",
   "execution_count": 9,
   "metadata": {
    "collapsed": false
   },
   "outputs": [
    {
     "name": "stdout",
     "output_type": "stream",
     "text": [
      "Size of the Fishers measurements  :- \n",
      "(150, 4)\n"
     ]
    }
   ],
   "source": [
    "# Find the size of the Fisher's measurements\n",
    "size = iris_data.shape\n",
    "print('Size of the Fishers measurements  :- \\n' + str(size))"
   ]
  },
  {
   "cell_type": "code",
   "execution_count": 10,
   "metadata": {
    "collapsed": false
   },
   "outputs": [
    {
     "name": "stdout",
     "output_type": "stream",
     "text": [
      "Number of elements of the second dimension of the irirs_data array  :- \n",
      "4\n"
     ]
    }
   ],
   "source": [
    "# Show the number of elements of the second dimension of the irirs_data array\n",
    "numOfElements = iris_data.shape[1]\n",
    "print('Number of elements of the second dimension of the irirs_data array  :- \\n' + str(numOfElements))"
   ]
  },
  {
   "cell_type": "markdown",
   "metadata": {},
   "source": [
    "## Section 1.3"
   ]
  },
  {
   "cell_type": "code",
   "execution_count": null,
   "metadata": {
    "collapsed": false
   },
   "outputs": [],
   "source": [
    "'''\n",
    "Find the sums of each of the columns in the irirs_data array. Find the sums of just the second and the fourth columns.\n",
    "Pull out samples (rows) 27 through 48 and find the maximum values in each of the four columns of this set of samples.\n",
    "Pull out the odd-numbered samples (rows) between the third and 33rd rows and find the minimum values in the first two\n",
    "columns. Capture the output to show your work. Hint: you can use numpy.ndarray functions.\n",
    "'''"
   ]
  },
  {
   "cell_type": "code",
   "execution_count": 11,
   "metadata": {
    "collapsed": false
   },
   "outputs": [
    {
     "name": "stdout",
     "output_type": "stream",
     "text": [
      "Sum of each of the columns in the iris_data :-\n",
      "876.5 458.1 563.8 179.8\n"
     ]
    }
   ],
   "source": [
    "# Find the sums of each of the columns in the irirs_data array\n",
    "sumCol = np.empty((1,4), dtype = float)\n",
    "for i in range(4):\n",
    "    sumCol[:,[i]] = np.sum(iris_data[:,i])\n",
    "print('Sum of each of the columns in the iris_data :-')\n",
    "print(str(float(sumCol[:,0])) +' '+ str(float(sumCol[:,1])) +' '+ str(float(sumCol[:,2]))+' '+ str(float(sumCol[:,3])) )"
   ]
  },
  {
   "cell_type": "code",
   "execution_count": 12,
   "metadata": {
    "collapsed": false
   },
   "outputs": [
    {
     "name": "stdout",
     "output_type": "stream",
     "text": [
      "Sum of column 2nd and 4th is :- \n",
      "637.9000000000001\n"
     ]
    }
   ],
   "source": [
    "# Find the sums of just the second and the fourth columns\n",
    "sumCol24 = sumCol[:,1] + sumCol[:,3]\n",
    "print('Sum of column 2nd and 4th is :- \\n' + str(float(sumCol24)))"
   ]
  },
  {
   "cell_type": "code",
   "execution_count": null,
   "metadata": {
    "collapsed": false
   },
   "outputs": [],
   "source": [
    "# (Inner outer Bounds) Pull out samples (rows) 27 through 48 and find the maximum values in each of the four columns of this set of samples.\n",
    "maxCol = np.empty((1,4), dtype = float)\n",
    "for i in range(4):\n",
    "    maxCol[:,[i]] = np.max(iris_data[27:48,i])\n",
    "print('Max of each of the columns in the iris_data :-')\n",
    "print(str(float(maxCol[:,0])) +' '+ str(float(maxCol[:,1])) +' '+ str(float(maxCol[:,2]))+' '+ str(float(maxCol[:,3])))"
   ]
  },
  {
   "cell_type": "code",
   "execution_count": null,
   "metadata": {
    "collapsed": false
   },
   "outputs": [],
   "source": [
    "# Pull out the odd-numbered samples (rows) between the third and 33rd rows and find the minimum values in the first two columns.\n",
    "minCol1 = np.min(iris_data[3:33:2,0])\n",
    "minCol2 = np.min(iris_data[3:33:2,1])\n",
    "print('Between the odd numbered samples between third and 33rd rows the minimum values in the first two columns :-')\n",
    "print(str(minCol1)+' '+str(minCol2))"
   ]
  },
  {
   "cell_type": "markdown",
   "metadata": {},
   "source": [
    "## Section 1.4"
   ]
  },
  {
   "cell_type": "code",
   "execution_count": null,
   "metadata": {
    "collapsed": false
   },
   "outputs": [],
   "source": [
    "'''\n",
    "Add the first and the third columns and place the results in a vector r13rd, then sum up r13rd.\n",
    "Compute the value each value of r13rd cubed.\n",
    "'''"
   ]
  },
  {
   "cell_type": "code",
   "execution_count": null,
   "metadata": {
    "collapsed": false
   },
   "outputs": [],
   "source": [
    "# Add the first and the third columns and place the results in a vector r13rd\n",
    "r13rd = iris_data[:,[0,2]].sum(1)\n",
    "print(r13rd)"
   ]
  },
  {
   "cell_type": "code",
   "execution_count": null,
   "metadata": {
    "collapsed": false
   },
   "outputs": [],
   "source": [
    "# Sum up r13rd\n",
    "np.sum(r13rd)"
   ]
  },
  {
   "cell_type": "code",
   "execution_count": null,
   "metadata": {
    "collapsed": false
   },
   "outputs": [],
   "source": [
    "#Compute the value each value of r13rd cubed.\n",
    "r13rdCubed = np.power(r13rd,3)\n",
    "print('Cobbed r13rd matrix is as follows :- \\n'+ str(r13rdCubed))"
   ]
  },
  {
   "cell_type": "markdown",
   "metadata": {},
   "source": [
    "## Section 1.5"
   ]
  },
  {
   "cell_type": "code",
   "execution_count": null,
   "metadata": {
    "collapsed": false
   },
   "outputs": [],
   "source": [
    "# Extract the first 4 rows of the first two columns as mat1 and first 4 rows of the last two columns as mat2.\n",
    "mat1 = iris_data[0:4, [0,1]]\n",
    "mat2 = iris_data[0:4, [2,3]]\n",
    "print('The two matrices are as follows :-')\n",
    "print('Mat1 : \\n '+str(mat1) +' \\n\\n'+ 'Mat2 : \\n '+str(mat2))"
   ]
  },
  {
   "cell_type": "code",
   "execution_count": null,
   "metadata": {
    "collapsed": false
   },
   "outputs": [],
   "source": [
    "# Add mat1 to mat2.\n",
    "sumMat = np.add(mat1, mat2)\n",
    "print('Sum of the matrices :- \\n'+ str(sumMat))"
   ]
  },
  {
   "cell_type": "code",
   "execution_count": null,
   "metadata": {
    "collapsed": false
   },
   "outputs": [],
   "source": [
    "# Multiple the respective elements of mat1 and mat2.\n",
    "multMat = np.multiply(mat1, mat2)\n",
    "print('Multiplication of the matrices :- \\n'+ str(multMat))"
   ]
  },
  {
   "cell_type": "markdown",
   "metadata": {},
   "source": [
    "## Section 1.6"
   ]
  },
  {
   "cell_type": "code",
   "execution_count": null,
   "metadata": {
    "collapsed": false
   },
   "outputs": [],
   "source": [
    "# Calculate the inner product of mat1 and mat2 and store it in mat3.\n",
    "mat3 = np.inner(mat1, mat2)\n",
    "print('Inner product of mat1 and mat2 is :- \\n'+ str(mat3))"
   ]
  },
  {
   "cell_type": "code",
   "execution_count": null,
   "metadata": {
    "collapsed": false
   },
   "outputs": [],
   "source": [
    "# Write mat3 out in CSV format to a file call mat3.CSV (hint: you can use numpy.savetxt function).\n",
    "np.savetxt('mat3.csv', mat3)\n",
    "print('Wrote mat3 matrix out in CSV format to a file call mat3.CSV')"
   ]
  },
  {
   "cell_type": "markdown",
   "metadata": {},
   "source": [
    "## Section 1.7"
   ]
  },
  {
   "cell_type": "code",
   "execution_count": null,
   "metadata": {
    "collapsed": false
   },
   "outputs": [],
   "source": [
    "'''\n",
    "Use a bar plot to show the mean and standard deviation of each value of Fisher's measurements.\n",
    "Hint: use matplotlib.pyplot module. Add proper axis label and title for the plot.\n",
    "'''\n",
    "\n",
    "import numpy as np\n",
    "import matplotlib.pyplot as plt\n",
    "arrMean = [np.mean(iris_data[:,[i]]) for i in range(4)] \n",
    "arrStd =  [np.std(iris_data[:,[i]]) for i in range(4)] \n",
    "\n",
    "\n",
    "N = 4\n",
    "\n",
    "locx = np.arange(N)  # the x locations for the groups\n",
    "width = 0.15       # the width of the bars\n",
    "\n",
    "fig, ax = plt.subplots()\n",
    "rects1 = ax.bar(locx, arrMean, width, color='r' )\n",
    "rects2 = ax.bar(locx + width, arrStd, width, color='y')\n",
    "\n",
    "ax.set_ylabel('Statistical Values')\n",
    "ax.set_title('Standard deviation and mean of different features')\n",
    "ax.set_xticks(locx + width / 2)\n",
    "ax.set_xticklabels(tuple(feature_names))\n",
    "\n",
    "ax.legend((rects1[0], rects2[0]), ('Mean', 'Standard Deviation'))\n",
    "\n",
    "plt.show()"
   ]
  },
  {
   "cell_type": "markdown",
   "metadata": {
    "collapsed": false
   },
   "source": [
    "## Section 1.8"
   ]
  },
  {
   "cell_type": "code",
   "execution_count": null,
   "metadata": {
    "collapsed": false
   },
   "outputs": [],
   "source": [
    "'''\n",
    "Plot the three species class examples as different colour points in a scatter plot as a function of the first two \n",
    "variables in the data array. Add axis labels and legend for the scatter plot using the target_names and feature_names.\n",
    "Add a proper title for the plot.\n",
    "'''"
   ]
  },
  {
   "cell_type": "code",
   "execution_count": null,
   "metadata": {
    "collapsed": false
   },
   "outputs": [],
   "source": [
    "import matplotlib.pyplot as plt\n",
    "dataScatter = iris_data[:,[0,1]].T\n",
    "counter = [list(target).count(i) for i in range(np.max(target)+1)]\n",
    "\n",
    "lb1 = plt.scatter(dataScatter[0][0:counter[0]], dataScatter[1][0:counter[0]], color = 'b', label = 'salil')\n",
    "lb2 = plt.scatter(dataScatter[0][50:50 + counter[1]], dataScatter[1][50:50 + counter[1]], color = 'g', label = 'vishnu')\n",
    "lb3 = plt.scatter(dataScatter[0][50+50 : 50+ 50+ counter[2]], dataScatter[1][50+50 : 50+ 50+ counter[2]], color = 'r', label = 'kapur')\n",
    "\n",
    "plt.xlabel(feature_names[0])\n",
    "plt.ylabel(feature_names[1])\n",
    "\n",
    "plt.legend((lb1, lb2, lb3), target_names, scatterpoints=1, loc='upper right', fontsize=8)\n",
    "\n",
    "plt.title('Classification results')\n",
    "\n",
    "plt.show()"
   ]
  },
  {
   "cell_type": "markdown",
   "metadata": {
    "collapsed": true
   },
   "source": [
    "## Section 1.9"
   ]
  },
  {
   "cell_type": "code",
   "execution_count": null,
   "metadata": {
    "collapsed": false
   },
   "outputs": [],
   "source": [
    "'''\n",
    "Using a for loop and matplotlib.pyplot.subplot and itertools modules,\n",
    "plot 6 scatter plots of all combinations of two features in one plot.\n",
    "Hint: you should adjust proper blank spaces between subplots.\n",
    "'''"
   ]
  },
  {
   "cell_type": "code",
   "execution_count": null,
   "metadata": {
    "collapsed": false
   },
   "outputs": [],
   "source": [
    "import matplotlib.pyplot as plt\n",
    "import itertools\n",
    "\n",
    "# for loop to get a multidimensional array with 6 rows\n",
    "count = 1\n",
    "features = [0, 1, 2, 3]\n",
    "for subset in itertools.combinations(features, 2):\n",
    "        dataScatter = iris_data[:,[subset[0],subset[1]]].T\n",
    "        plt.subplot(int(str(32) +''+ str(count)))\n",
    "        plt.scatter(dataScatter[0], dataScatter[1], c = target)       \n",
    "        plt.xlabel(feature_names[subset[0]])\n",
    "        plt.ylabel(feature_names[subset[1]])\n",
    "        plt.subplots_adjust( hspace= 0.5 )\n",
    "        count+=1\n",
    "plt.show()"
   ]
  },
  {
   "cell_type": "markdown",
   "metadata": {},
   "source": [
    "## Section 1.10"
   ]
  },
  {
   "cell_type": "code",
   "execution_count": null,
   "metadata": {
    "collapsed": false
   },
   "outputs": [],
   "source": [
    " '''\n",
    " Random sampling is a very important core technique in machine learning.\n",
    " Look up seed, RandomState, rand, randn, and randint functions in numpy.\n",
    " random module to briefly explain about the properties and capabilities of these commands.\n",
    " Explain a scenario that you must use RandomState before the random generator function.\n",
    " Create a 5 x 5 matrix call cent consisting of random values drawn from the normal distribution.\n",
    " Explain why there are negative values in cent. Create another 5 x 5 matrix call cent_fix consisting of random\n",
    " values drawn from the normal distribution with fix pseudo random number using RandomState method.\n",
    " Try different seeds and check the values of the cent and cent_fix arrays and capture the output to show your work.\n",
    " '''   "
   ]
  },
  {
   "cell_type": "code",
   "execution_count": null,
   "metadata": {
    "collapsed": false
   },
   "outputs": [],
   "source": [
    "#Random sampling is a very important core technique in machine learning.\n",
    "#Look up seed, RandomState, rand, randn, and randint functions in numpy.\n",
    "#Random module to briefly explain about the properties and capabilities of these commands.\n",
    "#Explain a scenario that you must use RandomState before the random generator function.\n",
    "\n",
    "# rand :- Always gives value between [0,1) by following a uniform distribution and this value is \n",
    "#          numpy.random.rand(d0, d1, ..., dn)¶\n",
    "print('A matrix of Random number :- \\n'+ str(np.random.rand(2,5))) \n",
    "\n",
    "\n",
    "# seed :- Here we Initialize the random number generator. So with this everytime we generate a set of random numbers\n",
    "#         they come out to be same.  \n",
    "np.random.seed(5)\n",
    "print('\\nOn every re run these values remain the same set of values :- ')\n",
    "print(np.random.rand())\n",
    "print(np.random.rand())\n",
    "\n",
    "# randint :- This generates a random number between the lower limit and upper limit both inclusive. \n",
    "#            random.randint(a, b)\n",
    "#            Return a random integer N such that a <= N <= b.\n",
    "print('\\nA random integer between 1 and 10 :- '+ str(np.random.randint(1, 10)))\n",
    "\n",
    "# randn :-  numpy.random.randn(d0, d1, ..., dn)\n",
    "#           Return a sample (or samples) from the “standard normal” distribution.\n",
    "#           If positive, int_like or int-convertible arguments are provided,\n",
    "#           randn generates an array of shape (d0, d1, ..., dn), filled with random floats sampled from\n",
    "#           a univariate “normal” (Gaussian) distribution of mean 0 and variance 1 \n",
    "#           (if any of the d_i are floats, they are first converted to integers by truncation).\n",
    "#           A single float randomly sampled from the distribution is returned if no argument is provided.\n",
    "print('\\nA matrix of random numbers which even has negative numbers:- \\n'+ str(np.random.randn(2, 4)))     \n",
    "\n",
    "# RandomState :- Given seed so as to tell the random generator function not to generate some sort of\n",
    "#                diffrenet values everytime. Using this you give the seed to this and you don't \n",
    "#                need to explicitely give the seed.\n",
    "gen = np.random.RandomState(4)\n",
    "print('\\nOn every re run the random integer remains the same this is another wayout similar to seed method :- '+ str(gen.randint(100,500)))\n",
    "\n",
    "# Explain a scenario that you must use RandomState before the random generator function.\n",
    "# \n",
    "#  Ans :- Think about a situation where you have 1 matrix which you want to generate into 100 matrixes. So the purpose is that now \n",
    "# you have 100 similar data matrices which a professor can distribute in class for diff machine learning problems. And\n",
    "# also can revert mack to the original matrix by subtracting the random matrix that was added to it.\n",
    "\n",
    "\n",
    "\n",
    "# 5x5 matrix cent \n",
    "# Explain why there are negative values in cent.\n",
    "# Ans :- This is because the randn genration is based on gausian distribution and the mean is 0 for all the values. \n",
    "#       So by this understanding there must be negative values as well.\n",
    "np.random.seed(5)\n",
    "cent = np.matrix([[np.random.randn() for e in range(5)] for e in range(5)])\n",
    "print('\\n5*5 matrix cent with random numbers in it on the bases of normal distribution with seed 5 :- \\n' + str(cent))\n",
    "\n",
    "np.random.seed(10)\n",
    "cent = np.matrix([[np.random.randn() for e in range(5)] for e in range(5)])\n",
    "print('\\n5*5 matrix cent with random numbers in it on the bases of normal distribution with seed 10 :- \\n' + str(cent))\n",
    "\n",
    "# 5x5 matrix cent_fix\n",
    "generator = np.random.RandomState(5)\n",
    "cent_fix = np.matrix([[generator.randn() for e in range(5)] for e in range(5)])\n",
    "print('\\n 5*5 matrix cent_fix with random numbers in it using RandomState on the bases of normal distribution :- \\n' + str(cent_fix))\n",
    "\n",
    "generator = np.random.RandomState(6)\n",
    "cent_fix = np.matrix([[generator.randn() for e in range(5)] for e in range(5)])\n",
    "print('\\n 5*5 matrix cent_fix with random numbers in it using RandomState on the bases of normal distribution :- \\n' + str(cent_fix))"
   ]
  },
  {
   "cell_type": "markdown",
   "metadata": {},
   "source": [
    "# Section 1.11"
   ]
  },
  {
   "cell_type": "code",
   "execution_count": null,
   "metadata": {
    "collapsed": false
   },
   "outputs": [],
   "source": [
    "'''\n",
    "Generates a row vector of 5 random numbers drawn from the uniform distribution using rand() \n",
    "and assign the vector to a variable v. Then draw another 5 random numbers and concatenate them \n",
    "as additional column values to v, and display the new v.\n",
    "'''"
   ]
  },
  {
   "cell_type": "code",
   "execution_count": null,
   "metadata": {
    "collapsed": false
   },
   "outputs": [],
   "source": [
    "import numpy as np\n",
    "\n",
    "v = np.asarray([np.random.rand() for i in range(5)], dtype = float )\n",
    "v2 = v = np.asarray([np.random.rand() for i in range(5)], dtype = float )\n",
    "\n",
    "v = np.concatenate((v, v2))\n",
    "\n",
    "print('Concatenated vector is as follows :- \\n'+ str(v))"
   ]
  },
  {
   "cell_type": "code",
   "execution_count": 1,
   "metadata": {
    "collapsed": true
   },
   "outputs": [],
   "source": [
    "import matplotlib.pyplot as plt"
   ]
  },
  {
   "cell_type": "code",
   "execution_count": null,
   "metadata": {
    "collapsed": true
   },
   "outputs": [],
   "source": [
    "plt."
   ]
  }
 ],
 "metadata": {
  "kernelspec": {
   "display_name": "Python 3",
   "language": "python",
   "name": "python3"
  },
  "language_info": {
   "codemirror_mode": {
    "name": "ipython",
    "version": 3
   },
   "file_extension": ".py",
   "mimetype": "text/x-python",
   "name": "python",
   "nbconvert_exporter": "python",
   "pygments_lexer": "ipython3",
   "version": "3.5.4"
  }
 },
 "nbformat": 4,
 "nbformat_minor": 2
}
