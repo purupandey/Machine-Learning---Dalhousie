{
 "cells": [
  {
   "cell_type": "markdown",
   "metadata": {},
   "source": [
    "#  Question 2"
   ]
  },
  {
   "cell_type": "markdown",
   "metadata": {},
   "source": [
    "## Section 2.1"
   ]
  },
  {
   "cell_type": "code",
   "execution_count": 2,
   "metadata": {
    "collapsed": true
   },
   "outputs": [],
   "source": [
    "# Create a function called forever that times the multiplication of two matrices of rank 500 consisting of random numbers\n",
    "# using “for” loops. Output the time."
   ]
  },
  {
   "cell_type": "code",
   "execution_count": 3,
   "metadata": {
    "collapsed": false
   },
   "outputs": [],
   "source": [
    "'''\n",
    "NumPy’s main object is the homogeneous multidimensional array. It is a table of elements (usually numbers),\n",
    "all of the same type, indexed by a tuple of positive integers. In NumPy dimensions are called axes.\n",
    "The number of axes is rank.\n",
    "'''\n",
    "\n",
    "import numpy as np\n",
    "import datetime\n",
    "\n",
    "def forever() :\n",
    "    np.random.seed(1)\n",
    "    # 500x500 matrix\n",
    "    mat1 = np.matrix([[np.random.random() for e in range(500)] for e in range(500)])\n",
    "    # 500x500 matrix\n",
    "    mat2 = np.matrix([[np.random.random() for e in range(500)] for e in range(500)])\n",
    "    result = np.zeros((500,500), dtype =  float)\n",
    "    a = datetime.datetime.now()\n",
    "    for i in range(len(mat1)):\n",
    "        for j in range(len(mat2)):\n",
    "                result[i,j] = np.sum((mat1[i,v]*mat2[v,j] for v in range(len(mat2))))\n",
    "    b = datetime.datetime.now()\n",
    "    return str(b-a)"
   ]
  },
  {
   "cell_type": "markdown",
   "metadata": {},
   "source": [
    "## Section 2.2"
   ]
  },
  {
   "cell_type": "code",
   "execution_count": 4,
   "metadata": {
    "collapsed": true
   },
   "outputs": [],
   "source": [
    "# Create a function called mat_fast that times the multiplication of two matrices of rank 500 consisting of random numbers\n",
    "# using a numpy.ndarray function. Output the time."
   ]
  },
  {
   "cell_type": "code",
   "execution_count": 5,
   "metadata": {
    "collapsed": false
   },
   "outputs": [],
   "source": [
    "'''\n",
    "numpy.dot\n",
    "numpy.dot(a, b, out=None)\n",
    "Dot product of two arrays. For 2-D arrays it is equivalent to matrix multiplication,\n",
    "and for 1-D arrays to inner product of vectors (without complex conjugation).\n",
    "For N dimensions it is a sum product over the last axis of a and the second-to-last of b:\n",
    "'''\n",
    "import datetime\n",
    "    \n",
    "def mat_fast():\n",
    "    mat1 = np.ndarray(shape=(500,500), dtype=float, order = 'F')\n",
    "    mat2 = np.ndarray(shape=(500,500), dtype=float, order = 'F')\n",
    "    a = datetime.datetime.now()\n",
    "    result = np.dot(mat1, mat2)\n",
    "    b = datetime.datetime.now()\n",
    "    return str(b-a)"
   ]
  },
  {
   "cell_type": "markdown",
   "metadata": {},
   "source": [
    "## Section 2.3"
   ]
  },
  {
   "cell_type": "code",
   "execution_count": null,
   "metadata": {
    "collapsed": true
   },
   "outputs": [],
   "source": [
    "# Calculates and prints the difference between the computation times of the two functions."
   ]
  },
  {
   "cell_type": "code",
   "execution_count": null,
   "metadata": {
    "collapsed": false
   },
   "outputs": [],
   "source": [
    "import datetime\n",
    "\n",
    "timeDiff = datetime.datetime.strptime(forever(),'%H:%M:%S.%f') - datetime.datetime.strptime(mat_fast(),'%H:%M:%S.%f') \n",
    "print('Difference between the computation times of the two functions :- '+ str(timeDiff))"
   ]
  },
  {
   "cell_type": "markdown",
   "metadata": {},
   "source": [
    "## Section 2.4"
   ]
  },
  {
   "cell_type": "code",
   "execution_count": null,
   "metadata": {
    "collapsed": true
   },
   "outputs": [],
   "source": [
    "# Run the script and capture the output to show your work."
   ]
  },
  {
   "cell_type": "code",
   "execution_count": null,
   "metadata": {
    "collapsed": false
   },
   "outputs": [],
   "source": [
    "'''\n",
    "As I have already implemented the above methods so just need to \"run All\" from the menu bar the above steps \n",
    "'''"
   ]
  }
 ],
 "metadata": {
  "kernelspec": {
   "display_name": "Python 3",
   "language": "python",
   "name": "python3"
  },
  "language_info": {
   "codemirror_mode": {
    "name": "ipython",
    "version": 3
   },
   "file_extension": ".py",
   "mimetype": "text/x-python",
   "name": "python",
   "nbconvert_exporter": "python",
   "pygments_lexer": "ipython3",
   "version": "3.5.1"
  }
 },
 "nbformat": 4,
 "nbformat_minor": 2
}
