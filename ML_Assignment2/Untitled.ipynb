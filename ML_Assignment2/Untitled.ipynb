{
 "cells": [
  {
   "cell_type": "code",
   "execution_count": null,
   "metadata": {
    "collapsed": true
   },
   "outputs": [],
   "source": [
    "from pylab import *\n",
    "from sklearn import linear_model\n",
    "from mpl_toolkits.mplot3d import Axes3D"
   ]
  },
  {
   "cell_type": "code",
   "execution_count": null,
   "metadata": {
    "collapsed": false
   },
   "outputs": [],
   "source": [
    "fig = plt.figure()\n",
    "ax = fig.gca(projection = '3d')\n",
    "x = array([[0,0], [1,.9], [2.1, 2]])\n",
    "y = array([0,1,2])\n"
   ]
  },
  {
   "cell_type": "code",
   "execution_count": null,
   "metadata": {
    "collapsed": false
   },
   "outputs": [],
   "source": [
    "ax.plot(x[:,0], x[:,1], y, '*')\n",
    "reg = linear_model.LinearRegression()\n",
    "reg.fit(x,y)\n",
    "print(reg.coef_)\n",
    "ax.plot ([0 ,2] ,[0 ,2] ,[0 , dot ( reg.coef_,[2 ,2])])\n",
    "\n",
    "\n",
    "reg = linear_model.Ridge(alpha = .5) \n",
    "reg.fit(x, y)\n",
    "print(reg.coef_)\n",
    "ax.plot ([0 ,2] ,[0 ,2] ,[0 , dot ( reg.coef_,[2 ,2])])\n",
    "\n",
    "\n",
    "reg = linear_model.Lasso(alpha = 0.1)\n",
    "reg.fit (x, y)\n",
    "print(reg.coef_)\n",
    "ax.plot ([0 ,2] ,[0 ,2] ,[0 , dot(reg.coef_,[2 ,2])])"
   ]
  },
  {
   "cell_type": "code",
   "execution_count": null,
   "metadata": {
    "collapsed": false
   },
   "outputs": [],
   "source": [
    "show ()"
   ]
  }
 ],
 "metadata": {
  "kernelspec": {
   "display_name": "Python 3",
   "language": "python",
   "name": "python3"
  },
  "language_info": {
   "codemirror_mode": {
    "name": "ipython",
    "version": 3
   },
   "file_extension": ".py",
   "mimetype": "text/x-python",
   "name": "python",
   "nbconvert_exporter": "python",
   "pygments_lexer": "ipython3",
   "version": "3.5.1"
  }
 },
 "nbformat": 4,
 "nbformat_minor": 2
}
