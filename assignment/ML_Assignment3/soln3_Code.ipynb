{
 "cells": [
  {
   "cell_type": "markdown",
   "metadata": {},
   "source": [
    "# Question 4"
   ]
  },
  {
   "cell_type": "markdown",
   "metadata": {},
   "source": [
    "Theoretical limit of Gaussian classification example. We followed an\n",
    "example of classifications with two Gaussian classes in section 2.4. In this assignment, you should calculate\n",
    "analytically the theoretical limit of the optimal accuracy for the parameters used in the printed program.\n",
    "Provide your answer with a brief outline of the calculation."
   ]
  },
  {
   "cell_type": "code",
   "execution_count": null,
   "metadata": {
    "collapsed": true
   },
   "outputs": [],
   "source": [
    "from scipy import integrate\n",
    "def make_gauss(N, sigma, mu):\n",
    "    k = N / (sigma * math.sqrt(2*math.pi))\n",
    "    s = -1.0 / (2 * sigma * sigma)\n",
    "    def f(x):\n",
    "        return k * math.exp(s * (x - mu)*(x - mu))\n",
    "    return f"
   ]
  },
  {
   "cell_type": "code",
   "execution_count": null,
   "metadata": {
    "collapsed": true
   },
   "outputs": [],
   "source": [
    "class1 = integrate.quad(make_gauss(1,1,1), -np.inf, 2)\n",
    "Area1 = class1[0]"
   ]
  },
  {
   "cell_type": "code",
   "execution_count": null,
   "metadata": {
    "collapsed": true
   },
   "outputs": [],
   "source": [
    "class2 = integrate.quad(make_gauss(1,1,3), 2, np.inf)\n",
    "Area2 = class2[0]"
   ]
  },
  {
   "cell_type": "code",
   "execution_count": null,
   "metadata": {
    "collapsed": true
   },
   "outputs": [],
   "source": [
    "print(Area1)"
   ]
  },
  {
   "cell_type": "code",
   "execution_count": null,
   "metadata": {
    "collapsed": true
   },
   "outputs": [],
   "source": [
    "print(Area2)"
   ]
  },
  {
   "cell_type": "markdown",
   "metadata": {},
   "source": [
    "<b>So now we have the two integrals in 1 dimension for the two gausian curves. So our accuracy of classification can be till the intersection of the two curves.<b>\n",
    "\n",
    "Classification_Result = (Area1 + Area2)/2\n",
    "\n",
    "So we can get 0.8413447460685435% of accuracy while classifying."
   ]
  },
  {
   "cell_type": "code",
   "execution_count": null,
   "metadata": {
    "collapsed": true
   },
   "outputs": [],
   "source": []
  }
 ],
 "metadata": {
  "kernelspec": {
   "display_name": "Python 3",
   "language": "python",
   "name": "python3"
  },
  "language_info": {
   "codemirror_mode": {
    "name": "ipython",
    "version": 3
   },
   "file_extension": ".py",
   "mimetype": "text/x-python",
   "name": "python",
   "nbconvert_exporter": "python",
   "pygments_lexer": "ipython3",
   "version": "3.5.1"
  }
 },
 "nbformat": 4,
 "nbformat_minor": 2
}
