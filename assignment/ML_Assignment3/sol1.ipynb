{
 "cells": [
  {
   "cell_type": "markdown",
   "metadata": {
    "collapsed": true
   },
   "source": [
    "# Question 1"
   ]
  },
  {
   "cell_type": "markdown",
   "metadata": {},
   "source": [
    "### Section 1.1 "
   ]
  },
  {
   "cell_type": "markdown",
   "metadata": {},
   "source": [
    "<b>Write a Python script file called sol1_1.py to load the House sales\n",
    "dataset from the houses.csv file and place them in a data-frame df.</b>"
   ]
  },
  {
   "cell_type": "code",
   "execution_count": 1,
   "metadata": {
    "collapsed": true
   },
   "outputs": [],
   "source": [
    "import numpy as np\n",
    "import pandas as pd\n",
    "df = pd.read_csv('houses.csv')"
   ]
  },
  {
   "cell_type": "markdown",
   "metadata": {},
   "source": [
    "#####  Q Then generate and show various statistic ?"
   ]
  },
  {
   "cell_type": "code",
   "execution_count": null,
   "metadata": {
    "collapsed": false
   },
   "outputs": [],
   "source": [
    "df.describe() "
   ]
  },
  {
   "cell_type": "markdown",
   "metadata": {},
   "source": [
    "<b>Q What is pandas dataframe ?</b>\n",
    "\n",
    "Ans: DataFrame is a 2-dimensional labeled data structure with columns of potentially different types.\n",
    "You can think of it like a spreadsheet or SQL table, or a dict of Series objects. It is generally\n",
    "the most commonly used pandas object.\n",
    "<br></br>\n",
    "<br></br>\n",
    "<b><br> Q Using\n",
    "pandas.DataFrame methods split the dataset into target value Y (price) and feature matrix X (all\n",
    "feature columns). In addition, extract the sqft_living column into a feature vector name X_1. </br> </b>\n",
    "<br>Here we have normalized the data as well:- </br>"
   ]
  },
  {
   "cell_type": "code",
   "execution_count": 2,
   "metadata": {
    "collapsed": false
   },
   "outputs": [],
   "source": [
    "X = df.iloc[:, 1:]\n",
    "Xnor  = pd.DataFrame([((X.iloc[:, i]-np.min(X.iloc[:, i]))/(np.max(X.iloc[:, i])-np.min(X.iloc[:, i]))) for i in range(len(X.columns))]).T\n",
    "\n",
    "Y = pd.Series.to_frame(df.iloc[:,0 ])\n",
    "Ynor  = pd.DataFrame([((Y.iloc[:, i]-np.min(Y.iloc[:, i]))/(np.max(Y.iloc[:, i])-np.min(Y.iloc[:, i]))) for i in range(len(Y.columns))]).T\n",
    "\n",
    "X_1 = pd.Series.to_frame(df.iloc[:,3])\n",
    "X_1nor  = pd.DataFrame([((X_1.iloc[:, i]-np.min(X_1.iloc[:, i]))/(np.max(X_1.iloc[:, i])-np.min(X_1.iloc[:, i]))) for i in range(len(X_1.columns))]).T"
   ]
  },
  {
   "cell_type": "markdown",
   "metadata": {},
   "source": [
    "### Section 1.2"
   ]
  },
  {
   "cell_type": "markdown",
   "metadata": {},
   "source": [
    "<b>Write a function named linear_regression to implement Linear Regression without using public libraries related to regression. The inputs of this function should be predictor values (X or X_1), a target value (Y), a learning rate (lr), and the number of iterations(repetition). The function must build a linear model using gradient descent and output the model(params) and loss values per iteration (loss).\n",
    "\n",
    "Set the iteration to 10000 and calculate and show the mean squared error (MSE) for the models obtained from both X and X_1 predictors (hint: you might write another function named predict to predict the values based on X or X_1 and params) and plot the learning curve (loss) for both models in one figure (hint: use log scaling plot). Try different\n",
    "learning rates (10, 1, 0.1, 0.01, and 0.001) and compare and show the results.</b>"
   ]
  },
  {
   "cell_type": "code",
   "execution_count": 22,
   "metadata": {
    "collapsed": false
   },
   "outputs": [],
   "source": [
    "from pylab import *\n",
    "import numpy as np\n",
    "from mpl_toolkits.mplot3d import Axes3D\n",
    "\n",
    "def linear_regression(pred_values, target_values, lr, No_Itr):\n",
    "    N = len(pred_values)\n",
    "    noCol = len(pred_values.columns)\n",
    "    arr = np.ndarray((1,noCol), dtype = float)\n",
    "    for i in range(noCol):\n",
    "        arr[0]=-1\n",
    "    a = np.array(arr, dtype = float)\n",
    "    b = np.array([-1], dtype = float)\n",
    "    L = np.array([])\n",
    "    out = np.array(target_values, dtype = float).reshape(N,1)\n",
    "    for iter in range(No_Itr):\n",
    "        paramsDotX = np.array((np.dot(pred_values, a[-1].T)), dtype = float).reshape(N,1) \n",
    "        y = paramsDotX + b[-1]\n",
    "        diffY = y-out\n",
    "        diffYY = np.dot(diffY.T,pred_values)\n",
    "        a = np.append(a,[a[-1] - lr*(1/N)*np.sum(diffYY)], 0)\n",
    "        b = np.append(b,[b[-1] - lr*(1/N)*np.sum(diffY)],0)\n",
    "        L = np.append(L, (1/N)*np.sum(diffY**2))\n",
    "    return (a,b,L)"
   ]
  },
  {
   "cell_type": "code",
   "execution_count": 23,
   "metadata": {
    "collapsed": false
   },
   "outputs": [],
   "source": [
    "outPX = linear_regression(Xnor, Ynor, 0.2, 10000)\n",
    "outPX_1 = linear_regression(X_1nor, Ynor, 0.2, 10000)"
   ]
  },
  {
   "cell_type": "markdown",
   "metadata": {},
   "source": [
    "<b>The Loss function graph per iteration :-</b>"
   ]
  },
  {
   "cell_type": "code",
   "execution_count": 25,
   "metadata": {
    "collapsed": false
   },
   "outputs": [
    {
     "ename": "KeyboardInterrupt",
     "evalue": "",
     "output_type": "error",
     "traceback": [
      "\u001b[1;31m---------------------------------------------------------------------------\u001b[0m",
      "\u001b[1;31mKeyboardInterrupt\u001b[0m                         Traceback (most recent call last)",
      "\u001b[1;32m<ipython-input-25-027adf28b27c>\u001b[0m in \u001b[0;36m<module>\u001b[1;34m()\u001b[0m\n\u001b[0;32m     11\u001b[0m \u001b[0mplt\u001b[0m\u001b[1;33m.\u001b[0m\u001b[0mtitle\u001b[0m\u001b[1;33m(\u001b[0m\u001b[1;34m'MSE Loss Function values Vs Iteration'\u001b[0m\u001b[1;33m)\u001b[0m\u001b[1;33m\u001b[0m\u001b[0m\n\u001b[0;32m     12\u001b[0m \u001b[1;33m\u001b[0m\u001b[0m\n\u001b[1;32m---> 13\u001b[1;33m \u001b[0mplt\u001b[0m\u001b[1;33m.\u001b[0m\u001b[0mshow\u001b[0m\u001b[1;33m(\u001b[0m\u001b[1;33m)\u001b[0m\u001b[1;33m\u001b[0m\u001b[0m\n\u001b[0m",
      "\u001b[1;32m/home/vishnu/anaconda3/lib/python3.5/site-packages/matplotlib/pyplot.py\u001b[0m in \u001b[0;36mshow\u001b[1;34m(*args, **kw)\u001b[0m\n\u001b[0;32m    251\u001b[0m     \"\"\"\n\u001b[0;32m    252\u001b[0m     \u001b[1;32mglobal\u001b[0m \u001b[0m_show\u001b[0m\u001b[1;33m\u001b[0m\u001b[0m\n\u001b[1;32m--> 253\u001b[1;33m     \u001b[1;32mreturn\u001b[0m \u001b[0m_show\u001b[0m\u001b[1;33m(\u001b[0m\u001b[1;33m*\u001b[0m\u001b[0margs\u001b[0m\u001b[1;33m,\u001b[0m \u001b[1;33m**\u001b[0m\u001b[0mkw\u001b[0m\u001b[1;33m)\u001b[0m\u001b[1;33m\u001b[0m\u001b[0m\n\u001b[0m\u001b[0;32m    254\u001b[0m \u001b[1;33m\u001b[0m\u001b[0m\n\u001b[0;32m    255\u001b[0m \u001b[1;33m\u001b[0m\u001b[0m\n",
      "\u001b[1;32m/home/vishnu/anaconda3/lib/python3.5/site-packages/matplotlib/backend_bases.py\u001b[0m in \u001b[0;36m__call__\u001b[1;34m(self, block)\u001b[0m\n\u001b[0;32m    191\u001b[0m \u001b[1;33m\u001b[0m\u001b[0m\n\u001b[0;32m    192\u001b[0m         \u001b[1;32mif\u001b[0m \u001b[1;32mnot\u001b[0m \u001b[0mis_interactive\u001b[0m\u001b[1;33m(\u001b[0m\u001b[1;33m)\u001b[0m \u001b[1;32mor\u001b[0m \u001b[0mget_backend\u001b[0m\u001b[1;33m(\u001b[0m\u001b[1;33m)\u001b[0m \u001b[1;33m==\u001b[0m \u001b[1;34m'WebAgg'\u001b[0m\u001b[1;33m:\u001b[0m\u001b[1;33m\u001b[0m\u001b[0m\n\u001b[1;32m--> 193\u001b[1;33m             \u001b[0mself\u001b[0m\u001b[1;33m.\u001b[0m\u001b[0mmainloop\u001b[0m\u001b[1;33m(\u001b[0m\u001b[1;33m)\u001b[0m\u001b[1;33m\u001b[0m\u001b[0m\n\u001b[0m\u001b[0;32m    194\u001b[0m \u001b[1;33m\u001b[0m\u001b[0m\n\u001b[0;32m    195\u001b[0m     \u001b[1;32mdef\u001b[0m \u001b[0mmainloop\u001b[0m\u001b[1;33m(\u001b[0m\u001b[0mself\u001b[0m\u001b[1;33m)\u001b[0m\u001b[1;33m:\u001b[0m\u001b[1;33m\u001b[0m\u001b[0m\n",
      "\u001b[1;32m/home/vishnu/anaconda3/lib/python3.5/site-packages/matplotlib/backends/backend_tkagg.py\u001b[0m in \u001b[0;36mmainloop\u001b[1;34m(self)\u001b[0m\n\u001b[0;32m     69\u001b[0m \u001b[1;32mclass\u001b[0m \u001b[0mShow\u001b[0m\u001b[1;33m(\u001b[0m\u001b[0mShowBase\u001b[0m\u001b[1;33m)\u001b[0m\u001b[1;33m:\u001b[0m\u001b[1;33m\u001b[0m\u001b[0m\n\u001b[0;32m     70\u001b[0m     \u001b[1;32mdef\u001b[0m \u001b[0mmainloop\u001b[0m\u001b[1;33m(\u001b[0m\u001b[0mself\u001b[0m\u001b[1;33m)\u001b[0m\u001b[1;33m:\u001b[0m\u001b[1;33m\u001b[0m\u001b[0m\n\u001b[1;32m---> 71\u001b[1;33m         \u001b[0mTk\u001b[0m\u001b[1;33m.\u001b[0m\u001b[0mmainloop\u001b[0m\u001b[1;33m(\u001b[0m\u001b[1;33m)\u001b[0m\u001b[1;33m\u001b[0m\u001b[0m\n\u001b[0m\u001b[0;32m     72\u001b[0m \u001b[1;33m\u001b[0m\u001b[0m\n\u001b[0;32m     73\u001b[0m \u001b[0mshow\u001b[0m \u001b[1;33m=\u001b[0m \u001b[0mShow\u001b[0m\u001b[1;33m(\u001b[0m\u001b[1;33m)\u001b[0m\u001b[1;33m\u001b[0m\u001b[0m\n",
      "\u001b[1;32m/home/vishnu/anaconda3/lib/python3.5/tkinter/__init__.py\u001b[0m in \u001b[0;36mmainloop\u001b[1;34m(n)\u001b[0m\n\u001b[0;32m    403\u001b[0m \u001b[1;32mdef\u001b[0m \u001b[0mmainloop\u001b[0m\u001b[1;33m(\u001b[0m\u001b[0mn\u001b[0m\u001b[1;33m=\u001b[0m\u001b[1;36m0\u001b[0m\u001b[1;33m)\u001b[0m\u001b[1;33m:\u001b[0m\u001b[1;33m\u001b[0m\u001b[0m\n\u001b[0;32m    404\u001b[0m     \u001b[1;34m\"\"\"Run the main loop of Tcl.\"\"\"\u001b[0m\u001b[1;33m\u001b[0m\u001b[0m\n\u001b[1;32m--> 405\u001b[1;33m     \u001b[0m_default_root\u001b[0m\u001b[1;33m.\u001b[0m\u001b[0mtk\u001b[0m\u001b[1;33m.\u001b[0m\u001b[0mmainloop\u001b[0m\u001b[1;33m(\u001b[0m\u001b[0mn\u001b[0m\u001b[1;33m)\u001b[0m\u001b[1;33m\u001b[0m\u001b[0m\n\u001b[0m\u001b[0;32m    406\u001b[0m \u001b[1;33m\u001b[0m\u001b[0m\n\u001b[0;32m    407\u001b[0m \u001b[0mgetint\u001b[0m \u001b[1;33m=\u001b[0m \u001b[0mint\u001b[0m\u001b[1;33m\u001b[0m\u001b[0m\n",
      "\u001b[1;31mKeyboardInterrupt\u001b[0m: "
     ]
    }
   ],
   "source": [
    "import matplotlib.pyplot as plt\n",
    "\n",
    "LFuncX = outPX[2]\n",
    "LFuncX_1 = outPX_1[2]\n",
    "\n",
    "plt.semilogx( LFuncX, color = 'r')\n",
    "plt.semilogx( LFuncX_1, color = 'b')\n",
    "plt.ylim(0,1)\n",
    "plt.ylabel('MSE values')\n",
    "plt.xlabel('Iteration')\n",
    "plt.title('MSE Loss Function values Vs Iteration')\n",
    "\n",
    "plt.show()"
   ]
  },
  {
   "cell_type": "markdown",
   "metadata": {},
   "source": [
    "<b>MSE values for X and X_1 models :-</b>"
   ]
  },
  {
   "cell_type": "code",
   "execution_count": 26,
   "metadata": {
    "collapsed": true
   },
   "outputs": [],
   "source": [
    "def predict(aParam, bParam, X):\n",
    "    nRows = len(aParam)\n",
    "    aParam = aParam.reshape(nRows,1)\n",
    "    y_Predicted = np.dot(X, aParam)+ bParam\n",
    "    return y_Predicted"
   ]
  },
  {
   "cell_type": "code",
   "execution_count": 27,
   "metadata": {
    "collapsed": false
   },
   "outputs": [
    {
     "name": "stdout",
     "output_type": "stream",
     "text": [
      "MSE of the 2 models :-\n",
      "price (grands)    0.001086\n",
      "dtype: float64\n",
      "price (grands)    0.001176\n",
      "dtype: float64\n"
     ]
    }
   ],
   "source": [
    "y_pred_X   = predict(outPX[0][-1], outPX[1][-1], Xnor)\n",
    "y_pred_X_1 = predict(outPX_1[0][-1], outPX_1[1][-1], X_1nor)\n",
    "\n",
    "\n",
    "print('MSE of the 2 models :-')\n",
    "MSE_X = (1/len(y_pred_X))*np.sum((y_pred_X - Ynor)**2)\n",
    "MSE_X_1 = (1/len(y_pred_X_1))*np.sum((y_pred_X_1 - Ynor)**2)\n",
    "print(MSE_X)\n",
    "print(MSE_X_1)"
   ]
  },
  {
   "cell_type": "markdown",
   "metadata": {},
   "source": [
    "### Try different learning rates (10, 1, 0.1, 0.01, and 0.001) and compare and show the results."
   ]
  },
  {
   "cell_type": "code",
   "execution_count": 28,
   "metadata": {
    "collapsed": false
   },
   "outputs": [
    {
     "name": "stderr",
     "output_type": "stream",
     "text": [
      "/home/vishnu/anaconda3/lib/python3.5/site-packages/ipykernel/__main__.py:22: RuntimeWarning: overflow encountered in square\n",
      "/home/vishnu/anaconda3/lib/python3.5/site-packages/ipykernel/__main__.py:21: RuntimeWarning: invalid value encountered in double_scalars\n"
     ]
    }
   ],
   "source": [
    "arrX = np.array((linear_regression(Xnor, Ynor, 10, 10000), linear_regression(Xnor, Ynor, 1, 10000),\n",
    "                      linear_regression(Xnor, Ynor, 0.1, 10000), linear_regression(Xnor, Ynor, 0.01, 10000),\n",
    "                      linear_regression(Xnor, Ynor, 0.001, 10000)), dtype = object )\n",
    "\n",
    "arrX_1 = np.array((linear_regression(X_1nor, Ynor, 10, 10000), linear_regression(X_1nor, Ynor, 1, 10000),\n",
    "                      linear_regression(X_1nor, Ynor, 0.1, 10000), linear_regression(X_1nor, Ynor, 0.01, 10000),\n",
    "                      linear_regression(X_1nor, Ynor, 0.001, 10000)) , dtype = object)"
   ]
  },
  {
   "cell_type": "code",
   "execution_count": 29,
   "metadata": {
    "collapsed": false
   },
   "outputs": [
    {
     "ename": "KeyboardInterrupt",
     "evalue": "",
     "output_type": "error",
     "traceback": [
      "\u001b[1;31m---------------------------------------------------------------------------\u001b[0m",
      "\u001b[1;31mKeyboardInterrupt\u001b[0m                         Traceback (most recent call last)",
      "\u001b[1;32m<ipython-input-29-756838657884>\u001b[0m in \u001b[0;36m<module>\u001b[1;34m()\u001b[0m\n\u001b[0;32m     14\u001b[0m         \u001b[0mplt\u001b[0m\u001b[1;33m.\u001b[0m\u001b[0msubplots_adjust\u001b[0m\u001b[1;33m(\u001b[0m \u001b[0mhspace\u001b[0m\u001b[1;33m=\u001b[0m \u001b[1;36m0.5\u001b[0m \u001b[1;33m)\u001b[0m\u001b[1;33m\u001b[0m\u001b[0m\n\u001b[0;32m     15\u001b[0m         \u001b[0mcount\u001b[0m\u001b[1;33m+=\u001b[0m\u001b[1;36m1\u001b[0m\u001b[1;33m\u001b[0m\u001b[0m\n\u001b[1;32m---> 16\u001b[1;33m \u001b[0mplt\u001b[0m\u001b[1;33m.\u001b[0m\u001b[0mshow\u001b[0m\u001b[1;33m(\u001b[0m\u001b[1;33m)\u001b[0m\u001b[1;33m\u001b[0m\u001b[0m\n\u001b[0m",
      "\u001b[1;32m/home/vishnu/anaconda3/lib/python3.5/site-packages/matplotlib/pyplot.py\u001b[0m in \u001b[0;36mshow\u001b[1;34m(*args, **kw)\u001b[0m\n\u001b[0;32m    251\u001b[0m     \"\"\"\n\u001b[0;32m    252\u001b[0m     \u001b[1;32mglobal\u001b[0m \u001b[0m_show\u001b[0m\u001b[1;33m\u001b[0m\u001b[0m\n\u001b[1;32m--> 253\u001b[1;33m     \u001b[1;32mreturn\u001b[0m \u001b[0m_show\u001b[0m\u001b[1;33m(\u001b[0m\u001b[1;33m*\u001b[0m\u001b[0margs\u001b[0m\u001b[1;33m,\u001b[0m \u001b[1;33m**\u001b[0m\u001b[0mkw\u001b[0m\u001b[1;33m)\u001b[0m\u001b[1;33m\u001b[0m\u001b[0m\n\u001b[0m\u001b[0;32m    254\u001b[0m \u001b[1;33m\u001b[0m\u001b[0m\n\u001b[0;32m    255\u001b[0m \u001b[1;33m\u001b[0m\u001b[0m\n",
      "\u001b[1;32m/home/vishnu/anaconda3/lib/python3.5/site-packages/matplotlib/backend_bases.py\u001b[0m in \u001b[0;36m__call__\u001b[1;34m(self, block)\u001b[0m\n\u001b[0;32m    191\u001b[0m \u001b[1;33m\u001b[0m\u001b[0m\n\u001b[0;32m    192\u001b[0m         \u001b[1;32mif\u001b[0m \u001b[1;32mnot\u001b[0m \u001b[0mis_interactive\u001b[0m\u001b[1;33m(\u001b[0m\u001b[1;33m)\u001b[0m \u001b[1;32mor\u001b[0m \u001b[0mget_backend\u001b[0m\u001b[1;33m(\u001b[0m\u001b[1;33m)\u001b[0m \u001b[1;33m==\u001b[0m \u001b[1;34m'WebAgg'\u001b[0m\u001b[1;33m:\u001b[0m\u001b[1;33m\u001b[0m\u001b[0m\n\u001b[1;32m--> 193\u001b[1;33m             \u001b[0mself\u001b[0m\u001b[1;33m.\u001b[0m\u001b[0mmainloop\u001b[0m\u001b[1;33m(\u001b[0m\u001b[1;33m)\u001b[0m\u001b[1;33m\u001b[0m\u001b[0m\n\u001b[0m\u001b[0;32m    194\u001b[0m \u001b[1;33m\u001b[0m\u001b[0m\n\u001b[0;32m    195\u001b[0m     \u001b[1;32mdef\u001b[0m \u001b[0mmainloop\u001b[0m\u001b[1;33m(\u001b[0m\u001b[0mself\u001b[0m\u001b[1;33m)\u001b[0m\u001b[1;33m:\u001b[0m\u001b[1;33m\u001b[0m\u001b[0m\n",
      "\u001b[1;32m/home/vishnu/anaconda3/lib/python3.5/site-packages/matplotlib/backends/backend_tkagg.py\u001b[0m in \u001b[0;36mmainloop\u001b[1;34m(self)\u001b[0m\n\u001b[0;32m     69\u001b[0m \u001b[1;32mclass\u001b[0m \u001b[0mShow\u001b[0m\u001b[1;33m(\u001b[0m\u001b[0mShowBase\u001b[0m\u001b[1;33m)\u001b[0m\u001b[1;33m:\u001b[0m\u001b[1;33m\u001b[0m\u001b[0m\n\u001b[0;32m     70\u001b[0m     \u001b[1;32mdef\u001b[0m \u001b[0mmainloop\u001b[0m\u001b[1;33m(\u001b[0m\u001b[0mself\u001b[0m\u001b[1;33m)\u001b[0m\u001b[1;33m:\u001b[0m\u001b[1;33m\u001b[0m\u001b[0m\n\u001b[1;32m---> 71\u001b[1;33m         \u001b[0mTk\u001b[0m\u001b[1;33m.\u001b[0m\u001b[0mmainloop\u001b[0m\u001b[1;33m(\u001b[0m\u001b[1;33m)\u001b[0m\u001b[1;33m\u001b[0m\u001b[0m\n\u001b[0m\u001b[0;32m     72\u001b[0m \u001b[1;33m\u001b[0m\u001b[0m\n\u001b[0;32m     73\u001b[0m \u001b[0mshow\u001b[0m \u001b[1;33m=\u001b[0m \u001b[0mShow\u001b[0m\u001b[1;33m(\u001b[0m\u001b[1;33m)\u001b[0m\u001b[1;33m\u001b[0m\u001b[0m\n",
      "\u001b[1;32m/home/vishnu/anaconda3/lib/python3.5/tkinter/__init__.py\u001b[0m in \u001b[0;36mmainloop\u001b[1;34m(n)\u001b[0m\n\u001b[0;32m    403\u001b[0m \u001b[1;32mdef\u001b[0m \u001b[0mmainloop\u001b[0m\u001b[1;33m(\u001b[0m\u001b[0mn\u001b[0m\u001b[1;33m=\u001b[0m\u001b[1;36m0\u001b[0m\u001b[1;33m)\u001b[0m\u001b[1;33m:\u001b[0m\u001b[1;33m\u001b[0m\u001b[0m\n\u001b[0;32m    404\u001b[0m     \u001b[1;34m\"\"\"Run the main loop of Tcl.\"\"\"\u001b[0m\u001b[1;33m\u001b[0m\u001b[0m\n\u001b[1;32m--> 405\u001b[1;33m     \u001b[0m_default_root\u001b[0m\u001b[1;33m.\u001b[0m\u001b[0mtk\u001b[0m\u001b[1;33m.\u001b[0m\u001b[0mmainloop\u001b[0m\u001b[1;33m(\u001b[0m\u001b[0mn\u001b[0m\u001b[1;33m)\u001b[0m\u001b[1;33m\u001b[0m\u001b[0m\n\u001b[0m\u001b[0;32m    406\u001b[0m \u001b[1;33m\u001b[0m\u001b[0m\n\u001b[0;32m    407\u001b[0m \u001b[0mgetint\u001b[0m \u001b[1;33m=\u001b[0m \u001b[0mint\u001b[0m\u001b[1;33m\u001b[0m\u001b[0m\n",
      "\u001b[1;31mKeyboardInterrupt\u001b[0m: "
     ]
    }
   ],
   "source": [
    "import matplotlib.pyplot as plt\n",
    "import itertools\n",
    "\n",
    "lr = (10, 1, 0.1, 0.01, 0.001)\n",
    "\n",
    "count = 1\n",
    "for i in range(5):\n",
    "        plt.subplot(int(str(23) +''+ str(count)))\n",
    "        plt.plot(range(10000), arrX[i][2], color = 'b')\n",
    "        plt.plot(range(10000), arrX_1[i][2], color = 'r')\n",
    "        plt.ylabel('MSE Loss Values')\n",
    "        plt.xlabel('Iterations')\n",
    "        plt.title('MSE Values for LR as ' + str(lr[i]))\n",
    "        plt.subplots_adjust( hspace= 0.5 )\n",
    "        count+=1\n",
    "plt.show()"
   ]
  },
  {
   "cell_type": "markdown",
   "metadata": {},
   "source": [
    "<br><b>Inference :-</b></br>\n",
    "<br>So hence we understand that at learning rate 10 and 1 our models don't tend to converge for the MSE loss function values. And for learning rate values 0.1, 0.01, and 0.001 our models tend to converge.</br>"
   ]
  },
  {
   "cell_type": "markdown",
   "metadata": {},
   "source": [
    "### Section 1.3 "
   ]
  },
  {
   "cell_type": "markdown",
   "metadata": {},
   "source": [
    "<b><br>Visualize the best-obtained model for X_1 using a scatter plot to show\n",
    "price vs area and plot the linear model.</br> \n",
    "<br>Then, visualize the best-obtained model for all features (X) using\n",
    "a scatter plot to show the predicted vs actual target values.</br>\n",
    "<br>Does the scatter plot create a linear line? Why?</br></b>"
   ]
  },
  {
   "cell_type": "code",
   "execution_count": 31,
   "metadata": {
    "collapsed": false
   },
   "outputs": [
    {
     "ename": "KeyboardInterrupt",
     "evalue": "",
     "output_type": "error",
     "traceback": [
      "\u001b[1;31m---------------------------------------------------------------------------\u001b[0m",
      "\u001b[1;31mKeyboardInterrupt\u001b[0m                         Traceback (most recent call last)",
      "\u001b[1;32m<ipython-input-31-df501cefd268>\u001b[0m in \u001b[0;36m<module>\u001b[1;34m()\u001b[0m\n\u001b[0;32m     10\u001b[0m \u001b[0mplt\u001b[0m\u001b[1;33m.\u001b[0m\u001b[0mxlabel\u001b[0m\u001b[1;33m(\u001b[0m\u001b[1;34m'Area '\u001b[0m\u001b[1;33m)\u001b[0m\u001b[1;33m\u001b[0m\u001b[0m\n\u001b[0;32m     11\u001b[0m \u001b[0mplt\u001b[0m\u001b[1;33m.\u001b[0m\u001b[0mtitle\u001b[0m\u001b[1;33m(\u001b[0m\u001b[1;34m'Predicted Price Vs Area for X_1 model'\u001b[0m\u001b[1;33m)\u001b[0m\u001b[1;33m\u001b[0m\u001b[0m\n\u001b[1;32m---> 12\u001b[1;33m \u001b[0mplt\u001b[0m\u001b[1;33m.\u001b[0m\u001b[0mshow\u001b[0m\u001b[1;33m(\u001b[0m\u001b[1;33m)\u001b[0m\u001b[1;33m\u001b[0m\u001b[0m\n\u001b[0m",
      "\u001b[1;32m/home/vishnu/anaconda3/lib/python3.5/site-packages/matplotlib/pyplot.py\u001b[0m in \u001b[0;36mshow\u001b[1;34m(*args, **kw)\u001b[0m\n\u001b[0;32m    251\u001b[0m     \"\"\"\n\u001b[0;32m    252\u001b[0m     \u001b[1;32mglobal\u001b[0m \u001b[0m_show\u001b[0m\u001b[1;33m\u001b[0m\u001b[0m\n\u001b[1;32m--> 253\u001b[1;33m     \u001b[1;32mreturn\u001b[0m \u001b[0m_show\u001b[0m\u001b[1;33m(\u001b[0m\u001b[1;33m*\u001b[0m\u001b[0margs\u001b[0m\u001b[1;33m,\u001b[0m \u001b[1;33m**\u001b[0m\u001b[0mkw\u001b[0m\u001b[1;33m)\u001b[0m\u001b[1;33m\u001b[0m\u001b[0m\n\u001b[0m\u001b[0;32m    254\u001b[0m \u001b[1;33m\u001b[0m\u001b[0m\n\u001b[0;32m    255\u001b[0m \u001b[1;33m\u001b[0m\u001b[0m\n",
      "\u001b[1;32m/home/vishnu/anaconda3/lib/python3.5/site-packages/matplotlib/backend_bases.py\u001b[0m in \u001b[0;36m__call__\u001b[1;34m(self, block)\u001b[0m\n\u001b[0;32m    191\u001b[0m \u001b[1;33m\u001b[0m\u001b[0m\n\u001b[0;32m    192\u001b[0m         \u001b[1;32mif\u001b[0m \u001b[1;32mnot\u001b[0m \u001b[0mis_interactive\u001b[0m\u001b[1;33m(\u001b[0m\u001b[1;33m)\u001b[0m \u001b[1;32mor\u001b[0m \u001b[0mget_backend\u001b[0m\u001b[1;33m(\u001b[0m\u001b[1;33m)\u001b[0m \u001b[1;33m==\u001b[0m \u001b[1;34m'WebAgg'\u001b[0m\u001b[1;33m:\u001b[0m\u001b[1;33m\u001b[0m\u001b[0m\n\u001b[1;32m--> 193\u001b[1;33m             \u001b[0mself\u001b[0m\u001b[1;33m.\u001b[0m\u001b[0mmainloop\u001b[0m\u001b[1;33m(\u001b[0m\u001b[1;33m)\u001b[0m\u001b[1;33m\u001b[0m\u001b[0m\n\u001b[0m\u001b[0;32m    194\u001b[0m \u001b[1;33m\u001b[0m\u001b[0m\n\u001b[0;32m    195\u001b[0m     \u001b[1;32mdef\u001b[0m \u001b[0mmainloop\u001b[0m\u001b[1;33m(\u001b[0m\u001b[0mself\u001b[0m\u001b[1;33m)\u001b[0m\u001b[1;33m:\u001b[0m\u001b[1;33m\u001b[0m\u001b[0m\n",
      "\u001b[1;32m/home/vishnu/anaconda3/lib/python3.5/site-packages/matplotlib/backends/backend_tkagg.py\u001b[0m in \u001b[0;36mmainloop\u001b[1;34m(self)\u001b[0m\n\u001b[0;32m     69\u001b[0m \u001b[1;32mclass\u001b[0m \u001b[0mShow\u001b[0m\u001b[1;33m(\u001b[0m\u001b[0mShowBase\u001b[0m\u001b[1;33m)\u001b[0m\u001b[1;33m:\u001b[0m\u001b[1;33m\u001b[0m\u001b[0m\n\u001b[0;32m     70\u001b[0m     \u001b[1;32mdef\u001b[0m \u001b[0mmainloop\u001b[0m\u001b[1;33m(\u001b[0m\u001b[0mself\u001b[0m\u001b[1;33m)\u001b[0m\u001b[1;33m:\u001b[0m\u001b[1;33m\u001b[0m\u001b[0m\n\u001b[1;32m---> 71\u001b[1;33m         \u001b[0mTk\u001b[0m\u001b[1;33m.\u001b[0m\u001b[0mmainloop\u001b[0m\u001b[1;33m(\u001b[0m\u001b[1;33m)\u001b[0m\u001b[1;33m\u001b[0m\u001b[0m\n\u001b[0m\u001b[0;32m     72\u001b[0m \u001b[1;33m\u001b[0m\u001b[0m\n\u001b[0;32m     73\u001b[0m \u001b[0mshow\u001b[0m \u001b[1;33m=\u001b[0m \u001b[0mShow\u001b[0m\u001b[1;33m(\u001b[0m\u001b[1;33m)\u001b[0m\u001b[1;33m\u001b[0m\u001b[0m\n",
      "\u001b[1;32m/home/vishnu/anaconda3/lib/python3.5/tkinter/__init__.py\u001b[0m in \u001b[0;36mmainloop\u001b[1;34m(n)\u001b[0m\n\u001b[0;32m    403\u001b[0m \u001b[1;32mdef\u001b[0m \u001b[0mmainloop\u001b[0m\u001b[1;33m(\u001b[0m\u001b[0mn\u001b[0m\u001b[1;33m=\u001b[0m\u001b[1;36m0\u001b[0m\u001b[1;33m)\u001b[0m\u001b[1;33m:\u001b[0m\u001b[1;33m\u001b[0m\u001b[0m\n\u001b[0;32m    404\u001b[0m     \u001b[1;34m\"\"\"Run the main loop of Tcl.\"\"\"\u001b[0m\u001b[1;33m\u001b[0m\u001b[0m\n\u001b[1;32m--> 405\u001b[1;33m     \u001b[0m_default_root\u001b[0m\u001b[1;33m.\u001b[0m\u001b[0mtk\u001b[0m\u001b[1;33m.\u001b[0m\u001b[0mmainloop\u001b[0m\u001b[1;33m(\u001b[0m\u001b[0mn\u001b[0m\u001b[1;33m)\u001b[0m\u001b[1;33m\u001b[0m\u001b[0m\n\u001b[0m\u001b[0;32m    406\u001b[0m \u001b[1;33m\u001b[0m\u001b[0m\n\u001b[0;32m    407\u001b[0m \u001b[0mgetint\u001b[0m \u001b[1;33m=\u001b[0m \u001b[0mint\u001b[0m\u001b[1;33m\u001b[0m\u001b[0m\n",
      "\u001b[1;31mKeyboardInterrupt\u001b[0m: "
     ]
    }
   ],
   "source": [
    "import matplotlib.pyplot as plt\n",
    "\n",
    "# plot linear model\n",
    "aVar = arrX_1[2][0][9999]\n",
    "bVar = arrX_1[2][1][9999]\n",
    "yVar = np.dot(X_1nor,aVar)+ bVar\n",
    "plt.plot(X_1nor, yVar, color = 'b')\n",
    "plt.scatter(X_1nor, Ynor, color = 'r')\n",
    "plt.ylabel('Predicted Price ')\n",
    "plt.xlabel('Area ')\n",
    "plt.title('Predicted Price Vs Area for X_1 model')\n",
    "plt.show()"
   ]
  },
  {
   "cell_type": "code",
   "execution_count": 35,
   "metadata": {
    "collapsed": false
   },
   "outputs": [
    {
     "ename": "KeyboardInterrupt",
     "evalue": "",
     "output_type": "error",
     "traceback": [
      "\u001b[1;31m---------------------------------------------------------------------------\u001b[0m",
      "\u001b[1;31mKeyboardInterrupt\u001b[0m                         Traceback (most recent call last)",
      "\u001b[1;32m<ipython-input-35-4362fb942c82>\u001b[0m in \u001b[0;36m<module>\u001b[1;34m()\u001b[0m\n\u001b[0;32m      9\u001b[0m \u001b[0mplt\u001b[0m\u001b[1;33m.\u001b[0m\u001b[0mxlabel\u001b[0m\u001b[1;33m(\u001b[0m\u001b[1;34m'Actual Price '\u001b[0m\u001b[1;33m)\u001b[0m\u001b[1;33m\u001b[0m\u001b[0m\n\u001b[0;32m     10\u001b[0m \u001b[0mplt\u001b[0m\u001b[1;33m.\u001b[0m\u001b[0mtitle\u001b[0m\u001b[1;33m(\u001b[0m\u001b[1;34m'Predicted Price Vs Actual Price for X model'\u001b[0m\u001b[1;33m)\u001b[0m\u001b[1;33m\u001b[0m\u001b[0m\n\u001b[1;32m---> 11\u001b[1;33m \u001b[0mplt\u001b[0m\u001b[1;33m.\u001b[0m\u001b[0mshow\u001b[0m\u001b[1;33m(\u001b[0m\u001b[1;33m)\u001b[0m\u001b[1;33m\u001b[0m\u001b[0m\n\u001b[0m",
      "\u001b[1;32m/home/vishnu/anaconda3/lib/python3.5/site-packages/matplotlib/pyplot.py\u001b[0m in \u001b[0;36mshow\u001b[1;34m(*args, **kw)\u001b[0m\n\u001b[0;32m    251\u001b[0m     \"\"\"\n\u001b[0;32m    252\u001b[0m     \u001b[1;32mglobal\u001b[0m \u001b[0m_show\u001b[0m\u001b[1;33m\u001b[0m\u001b[0m\n\u001b[1;32m--> 253\u001b[1;33m     \u001b[1;32mreturn\u001b[0m \u001b[0m_show\u001b[0m\u001b[1;33m(\u001b[0m\u001b[1;33m*\u001b[0m\u001b[0margs\u001b[0m\u001b[1;33m,\u001b[0m \u001b[1;33m**\u001b[0m\u001b[0mkw\u001b[0m\u001b[1;33m)\u001b[0m\u001b[1;33m\u001b[0m\u001b[0m\n\u001b[0m\u001b[0;32m    254\u001b[0m \u001b[1;33m\u001b[0m\u001b[0m\n\u001b[0;32m    255\u001b[0m \u001b[1;33m\u001b[0m\u001b[0m\n",
      "\u001b[1;32m/home/vishnu/anaconda3/lib/python3.5/site-packages/matplotlib/backend_bases.py\u001b[0m in \u001b[0;36m__call__\u001b[1;34m(self, block)\u001b[0m\n\u001b[0;32m    191\u001b[0m \u001b[1;33m\u001b[0m\u001b[0m\n\u001b[0;32m    192\u001b[0m         \u001b[1;32mif\u001b[0m \u001b[1;32mnot\u001b[0m \u001b[0mis_interactive\u001b[0m\u001b[1;33m(\u001b[0m\u001b[1;33m)\u001b[0m \u001b[1;32mor\u001b[0m \u001b[0mget_backend\u001b[0m\u001b[1;33m(\u001b[0m\u001b[1;33m)\u001b[0m \u001b[1;33m==\u001b[0m \u001b[1;34m'WebAgg'\u001b[0m\u001b[1;33m:\u001b[0m\u001b[1;33m\u001b[0m\u001b[0m\n\u001b[1;32m--> 193\u001b[1;33m             \u001b[0mself\u001b[0m\u001b[1;33m.\u001b[0m\u001b[0mmainloop\u001b[0m\u001b[1;33m(\u001b[0m\u001b[1;33m)\u001b[0m\u001b[1;33m\u001b[0m\u001b[0m\n\u001b[0m\u001b[0;32m    194\u001b[0m \u001b[1;33m\u001b[0m\u001b[0m\n\u001b[0;32m    195\u001b[0m     \u001b[1;32mdef\u001b[0m \u001b[0mmainloop\u001b[0m\u001b[1;33m(\u001b[0m\u001b[0mself\u001b[0m\u001b[1;33m)\u001b[0m\u001b[1;33m:\u001b[0m\u001b[1;33m\u001b[0m\u001b[0m\n",
      "\u001b[1;32m/home/vishnu/anaconda3/lib/python3.5/site-packages/matplotlib/backends/backend_tkagg.py\u001b[0m in \u001b[0;36mmainloop\u001b[1;34m(self)\u001b[0m\n\u001b[0;32m     69\u001b[0m \u001b[1;32mclass\u001b[0m \u001b[0mShow\u001b[0m\u001b[1;33m(\u001b[0m\u001b[0mShowBase\u001b[0m\u001b[1;33m)\u001b[0m\u001b[1;33m:\u001b[0m\u001b[1;33m\u001b[0m\u001b[0m\n\u001b[0;32m     70\u001b[0m     \u001b[1;32mdef\u001b[0m \u001b[0mmainloop\u001b[0m\u001b[1;33m(\u001b[0m\u001b[0mself\u001b[0m\u001b[1;33m)\u001b[0m\u001b[1;33m:\u001b[0m\u001b[1;33m\u001b[0m\u001b[0m\n\u001b[1;32m---> 71\u001b[1;33m         \u001b[0mTk\u001b[0m\u001b[1;33m.\u001b[0m\u001b[0mmainloop\u001b[0m\u001b[1;33m(\u001b[0m\u001b[1;33m)\u001b[0m\u001b[1;33m\u001b[0m\u001b[0m\n\u001b[0m\u001b[0;32m     72\u001b[0m \u001b[1;33m\u001b[0m\u001b[0m\n\u001b[0;32m     73\u001b[0m \u001b[0mshow\u001b[0m \u001b[1;33m=\u001b[0m \u001b[0mShow\u001b[0m\u001b[1;33m(\u001b[0m\u001b[1;33m)\u001b[0m\u001b[1;33m\u001b[0m\u001b[0m\n",
      "\u001b[1;32m/home/vishnu/anaconda3/lib/python3.5/tkinter/__init__.py\u001b[0m in \u001b[0;36mmainloop\u001b[1;34m(n)\u001b[0m\n\u001b[0;32m    403\u001b[0m \u001b[1;32mdef\u001b[0m \u001b[0mmainloop\u001b[0m\u001b[1;33m(\u001b[0m\u001b[0mn\u001b[0m\u001b[1;33m=\u001b[0m\u001b[1;36m0\u001b[0m\u001b[1;33m)\u001b[0m\u001b[1;33m:\u001b[0m\u001b[1;33m\u001b[0m\u001b[0m\n\u001b[0;32m    404\u001b[0m     \u001b[1;34m\"\"\"Run the main loop of Tcl.\"\"\"\u001b[0m\u001b[1;33m\u001b[0m\u001b[0m\n\u001b[1;32m--> 405\u001b[1;33m     \u001b[0m_default_root\u001b[0m\u001b[1;33m.\u001b[0m\u001b[0mtk\u001b[0m\u001b[1;33m.\u001b[0m\u001b[0mmainloop\u001b[0m\u001b[1;33m(\u001b[0m\u001b[0mn\u001b[0m\u001b[1;33m)\u001b[0m\u001b[1;33m\u001b[0m\u001b[0m\n\u001b[0m\u001b[0;32m    406\u001b[0m \u001b[1;33m\u001b[0m\u001b[0m\n\u001b[0;32m    407\u001b[0m \u001b[0mgetint\u001b[0m \u001b[1;33m=\u001b[0m \u001b[0mint\u001b[0m\u001b[1;33m\u001b[0m\u001b[0m\n",
      "\u001b[1;31mKeyboardInterrupt\u001b[0m: "
     ]
    }
   ],
   "source": [
    "import matplotlib.pyplot as plt\n",
    "\n",
    "# plot linear model\n",
    "aVar = arrX[2][0][9999]\n",
    "bVar = arrX[2][1][9999]\n",
    "yVar = np.dot(Xnor,aVar)+ bVar\n",
    "plt.scatter(Ynor, yVar, color = 'r')\n",
    "plt.ylabel('Predicted Price ')\n",
    "plt.xlabel('Actual Price ')\n",
    "plt.title('Predicted Price Vs Actual Price for X model')\n",
    "plt.show()"
   ]
  },
  {
   "cell_type": "markdown",
   "metadata": {
    "collapsed": false
   },
   "source": [
    "<b>Reason for straight line :-</b>\n",
    "We don't get a straight line here, but it looks like the angle could be if possible a 60 degree. Which signifies that for a given actual price the predicted price is going to be a little more higher."
   ]
  },
  {
   "cell_type": "markdown",
   "metadata": {},
   "source": [
    "### Section 1.4"
   ]
  },
  {
   "cell_type": "markdown",
   "metadata": {},
   "source": [
    "<b><br>Modify the linear_regression function in a way that applies\n",
    "Ridge regression and LASSO, and name them linear_regression_Ridge and\n",
    "linear_regression_LASSO respectively.</br> \n",
    "<br>Then repeat the assignments 1.2 and 1.3. You can\n",
    "thereby use a fixed learning rate that you find appropriate, but you should try different values for the\n",
    "regularization penalty alpha.</br></b>"
   ]
  },
  {
   "cell_type": "code",
   "execution_count": 34,
   "metadata": {
    "collapsed": false
   },
   "outputs": [],
   "source": [
    "from pylab import *\n",
    "import numpy as np\n",
    "\n",
    "def linear_regression_Ridge(pred_values, target_values, lr, alpha, No_Itr):\n",
    "    N = len(pred_values)\n",
    "    noCol = len(pred_values.columns)\n",
    "    arr = np.ndarray((1,noCol), dtype = float)\n",
    "    for i in range(noCol):\n",
    "        arr[0]=-1\n",
    "    a = np.array(arr, dtype = float)\n",
    "    b = np.array([-1], dtype = float)\n",
    "    L = np.array([])\n",
    "    out = np.array(target_values, dtype = float).reshape(N,1)\n",
    "    for iter in range(No_Itr):\n",
    "        paramsDotX = np.array((np.dot(pred_values, a[-1].T)), dtype = float).reshape(N,1) \n",
    "        y = paramsDotX + b[-1]\n",
    "        diffY = y-out\n",
    "        diffYY = np.dot(diffY.T,pred_values)\n",
    "        a = np.append(a,[a[-1] - lr*(1/N)*np.sum(diffYY) - alpha*2*a[-1]], 0)\n",
    "        b = np.append(b,[b[-1] - lr*(1/N)*np.sum(diffY) - alpha*2*b[-1]], 0)\n",
    "        L = np.append(L, (1/N)*np.sum(diffY**2) + alpha*(np.sum((a[-1])**2) + (b[-1])**2))\n",
    "    return (a,b,L)"
   ]
  },
  {
   "cell_type": "markdown",
   "metadata": {},
   "source": [
    "<b>Set the iteration to 10000 and calculate and show the mean squared error (MSE) for the models obtained from both X and\n",
    "X_1 predictors (hint: you might write another function named predict to predict the values based on X or X_1 and params)\n",
    "<br>and plot the learning curve (loss) for both models in one figure</br></b>"
   ]
  },
  {
   "cell_type": "code",
   "execution_count": null,
   "metadata": {
    "collapsed": false
   },
   "outputs": [],
   "source": [
    "def predict(aParam, bParam, X):\n",
    "    nRows = len(aParam)\n",
    "    aParam = aParam.reshape(nRows,1)\n",
    "    y_Predicted = np.dot(X, aParam)+ bParam\n",
    "    return y_Predicted"
   ]
  },
  {
   "cell_type": "code",
   "execution_count": null,
   "metadata": {
    "collapsed": false
   },
   "outputs": [],
   "source": [
    "outXR = linear_regression_Ridge(Xnor, Ynor, 0.1,0.0001, 10000)\n",
    "outX_1R = linear_regression_Ridge(X_1nor, Ynor, 0.1,0.001, 10000)"
   ]
  },
  {
   "cell_type": "code",
   "execution_count": null,
   "metadata": {
    "collapsed": false
   },
   "outputs": [],
   "source": [
    "print('Predictions of the 2 models :-')\n",
    "y_pred_X   = predict(outXR[0][-1], outXR[1][-1], Xnor)\n",
    "y_pred_X_1 = predict(outX_1R[0][-1], outX_1R[1][-1], X_1nor)\n",
    "\n",
    "print('MSE of the 2 models :-')\n",
    "MSE_X = np.sum((y_pred_X - Ynor)**2)\n",
    "MSE_X_1 = np.sum((y_pred_X_1 - Ynor)**2)\n",
    "print(MSE_X)\n",
    "print(MSE_X_1)\n",
    "\n",
    "plt.plot(range(10000), outXR[2], color = 'b')\n",
    "plt.plot(range(10000), outX_1R[2], color = 'r')\n",
    "plt.ylabel('Loss')\n",
    "plt.xlabel('Iterations')\n",
    "plt.title('Ridge Regression Loss comparison among 2 models')\n",
    "plt.show()"
   ]
  },
  {
   "cell_type": "markdown",
   "metadata": {},
   "source": [
    "### Try different learning rates (10, 1, 0.1, 0.01, and 0.001) and compare and show the results."
   ]
  },
  {
   "cell_type": "code",
   "execution_count": 4,
   "metadata": {
    "collapsed": false
   },
   "outputs": [
    {
     "name": "stderr",
     "output_type": "stream",
     "text": [
      "/home/vishnu/anaconda3/lib/python3.5/site-packages/ipykernel/__main__.py:21: RuntimeWarning: overflow encountered in square\n",
      "/home/vishnu/anaconda3/lib/python3.5/site-packages/ipykernel/__main__.py:21: RuntimeWarning: overflow encountered in double_scalars\n",
      "/home/vishnu/anaconda3/lib/python3.5/site-packages/ipykernel/__main__.py:20: RuntimeWarning: invalid value encountered in double_scalars\n"
     ]
    }
   ],
   "source": [
    "arrX = np.array((linear_regression_Ridge(Xnor, Ynor, 10,0.0001, 10000), linear_regression_Ridge(Xnor, Ynor, 1,0.0001, 10000),\n",
    "                      linear_regression_Ridge(Xnor, Ynor, 0.1,0.0001 , 10000), linear_regression_Ridge(Xnor, Ynor, 0.01, 0.0001, 10000),\n",
    "                      linear_regression_Ridge(Xnor, Ynor, 0.001, 0.0001, 10000)), dtype = object )\n",
    "\n",
    "arrX_1 = np.array((linear_regression_Ridge(X_1nor, Ynor, 10, 0.0001, 10000), linear_regression_Ridge(X_1nor, Ynor, 1, 0.0001, 10000),\n",
    "                      linear_regression_Ridge(X_1nor, Ynor, 0.1, 0.0001, 10000), linear_regression_Ridge(X_1nor, Ynor, 0.01, 0.0001, 10000),\n",
    "                      linear_regression_Ridge(X_1nor, Ynor, 0.001, 0.0001, 10000)) , dtype = object)"
   ]
  },
  {
   "cell_type": "code",
   "execution_count": null,
   "metadata": {
    "collapsed": false
   },
   "outputs": [],
   "source": [
    "import matplotlib.pyplot as plt\n",
    "import itertools\n",
    "\n",
    "lr = (10, 1, 0.1, 0.01, 0.001)\n",
    "\n",
    "count = 1\n",
    "for i in range(5):\n",
    "        plt.subplot(int(str(23) +''+ str(count)))\n",
    "        plt.plot(range(10000), arrX[i][2], color = 'b')\n",
    "        plt.plot(range(10000), arrX_1[i][2], color = 'r')\n",
    "        plt.ylabel('Loss')\n",
    "        plt.xlabel('Iterations')\n",
    "        plt.title('MSE Values for lr as ' + str(lr[i]))\n",
    "        plt.subplots_adjust( hspace= 0.5 )\n",
    "        count+=1\n",
    "plt.show()"
   ]
  },
  {
   "cell_type": "markdown",
   "metadata": {},
   "source": [
    "<b><br>Visualize the best-obtained model for X_1 using a scatter plot to show\n",
    "price vs area and plot the linear model.</br></b> "
   ]
  },
  {
   "cell_type": "code",
   "execution_count": null,
   "metadata": {
    "collapsed": false
   },
   "outputs": [],
   "source": [
    "import matplotlib.pyplot as plt\n",
    "\n",
    "# plot linear model\n",
    "aVar = arrX_1[2][0][9999]\n",
    "bVar = arrX_1[2][1][9999]\n",
    "yVar = np.dot(X_1nor,aVar)+ bVar\n",
    "plt.plot(X_1nor, yVar, color = 'r')\n",
    "plt.scatter(X_1nor, Ynor, color = 'b')\n",
    "plt.ylabel('Predicted Price ')\n",
    "plt.xlabel('Area ')\n",
    "plt.title('Predicted Price Vs Area for X_1 model')\n",
    "plt.show()"
   ]
  },
  {
   "cell_type": "markdown",
   "metadata": {},
   "source": [
    "<b><br>Then, visualize the best-obtained model for all features (X) using\n",
    "a scatter plot to show the predicted vs actual target values.</br>\n",
    "<br>Does the scatter plot create a linear line? Why?</br></b>"
   ]
  },
  {
   "cell_type": "code",
   "execution_count": 36,
   "metadata": {
    "collapsed": false
   },
   "outputs": [
    {
     "ename": "KeyboardInterrupt",
     "evalue": "",
     "output_type": "error",
     "traceback": [
      "\u001b[1;31m---------------------------------------------------------------------------\u001b[0m",
      "\u001b[1;31mKeyboardInterrupt\u001b[0m                         Traceback (most recent call last)",
      "\u001b[1;32m<ipython-input-36-4362fb942c82>\u001b[0m in \u001b[0;36m<module>\u001b[1;34m()\u001b[0m\n\u001b[0;32m      9\u001b[0m \u001b[0mplt\u001b[0m\u001b[1;33m.\u001b[0m\u001b[0mxlabel\u001b[0m\u001b[1;33m(\u001b[0m\u001b[1;34m'Actual Price '\u001b[0m\u001b[1;33m)\u001b[0m\u001b[1;33m\u001b[0m\u001b[0m\n\u001b[0;32m     10\u001b[0m \u001b[0mplt\u001b[0m\u001b[1;33m.\u001b[0m\u001b[0mtitle\u001b[0m\u001b[1;33m(\u001b[0m\u001b[1;34m'Predicted Price Vs Actual Price for X model'\u001b[0m\u001b[1;33m)\u001b[0m\u001b[1;33m\u001b[0m\u001b[0m\n\u001b[1;32m---> 11\u001b[1;33m \u001b[0mplt\u001b[0m\u001b[1;33m.\u001b[0m\u001b[0mshow\u001b[0m\u001b[1;33m(\u001b[0m\u001b[1;33m)\u001b[0m\u001b[1;33m\u001b[0m\u001b[0m\n\u001b[0m",
      "\u001b[1;32m/home/vishnu/anaconda3/lib/python3.5/site-packages/matplotlib/pyplot.py\u001b[0m in \u001b[0;36mshow\u001b[1;34m(*args, **kw)\u001b[0m\n\u001b[0;32m    251\u001b[0m     \"\"\"\n\u001b[0;32m    252\u001b[0m     \u001b[1;32mglobal\u001b[0m \u001b[0m_show\u001b[0m\u001b[1;33m\u001b[0m\u001b[0m\n\u001b[1;32m--> 253\u001b[1;33m     \u001b[1;32mreturn\u001b[0m \u001b[0m_show\u001b[0m\u001b[1;33m(\u001b[0m\u001b[1;33m*\u001b[0m\u001b[0margs\u001b[0m\u001b[1;33m,\u001b[0m \u001b[1;33m**\u001b[0m\u001b[0mkw\u001b[0m\u001b[1;33m)\u001b[0m\u001b[1;33m\u001b[0m\u001b[0m\n\u001b[0m\u001b[0;32m    254\u001b[0m \u001b[1;33m\u001b[0m\u001b[0m\n\u001b[0;32m    255\u001b[0m \u001b[1;33m\u001b[0m\u001b[0m\n",
      "\u001b[1;32m/home/vishnu/anaconda3/lib/python3.5/site-packages/matplotlib/backend_bases.py\u001b[0m in \u001b[0;36m__call__\u001b[1;34m(self, block)\u001b[0m\n\u001b[0;32m    191\u001b[0m \u001b[1;33m\u001b[0m\u001b[0m\n\u001b[0;32m    192\u001b[0m         \u001b[1;32mif\u001b[0m \u001b[1;32mnot\u001b[0m \u001b[0mis_interactive\u001b[0m\u001b[1;33m(\u001b[0m\u001b[1;33m)\u001b[0m \u001b[1;32mor\u001b[0m \u001b[0mget_backend\u001b[0m\u001b[1;33m(\u001b[0m\u001b[1;33m)\u001b[0m \u001b[1;33m==\u001b[0m \u001b[1;34m'WebAgg'\u001b[0m\u001b[1;33m:\u001b[0m\u001b[1;33m\u001b[0m\u001b[0m\n\u001b[1;32m--> 193\u001b[1;33m             \u001b[0mself\u001b[0m\u001b[1;33m.\u001b[0m\u001b[0mmainloop\u001b[0m\u001b[1;33m(\u001b[0m\u001b[1;33m)\u001b[0m\u001b[1;33m\u001b[0m\u001b[0m\n\u001b[0m\u001b[0;32m    194\u001b[0m \u001b[1;33m\u001b[0m\u001b[0m\n\u001b[0;32m    195\u001b[0m     \u001b[1;32mdef\u001b[0m \u001b[0mmainloop\u001b[0m\u001b[1;33m(\u001b[0m\u001b[0mself\u001b[0m\u001b[1;33m)\u001b[0m\u001b[1;33m:\u001b[0m\u001b[1;33m\u001b[0m\u001b[0m\n",
      "\u001b[1;32m/home/vishnu/anaconda3/lib/python3.5/site-packages/matplotlib/backends/backend_tkagg.py\u001b[0m in \u001b[0;36mmainloop\u001b[1;34m(self)\u001b[0m\n\u001b[0;32m     69\u001b[0m \u001b[1;32mclass\u001b[0m \u001b[0mShow\u001b[0m\u001b[1;33m(\u001b[0m\u001b[0mShowBase\u001b[0m\u001b[1;33m)\u001b[0m\u001b[1;33m:\u001b[0m\u001b[1;33m\u001b[0m\u001b[0m\n\u001b[0;32m     70\u001b[0m     \u001b[1;32mdef\u001b[0m \u001b[0mmainloop\u001b[0m\u001b[1;33m(\u001b[0m\u001b[0mself\u001b[0m\u001b[1;33m)\u001b[0m\u001b[1;33m:\u001b[0m\u001b[1;33m\u001b[0m\u001b[0m\n\u001b[1;32m---> 71\u001b[1;33m         \u001b[0mTk\u001b[0m\u001b[1;33m.\u001b[0m\u001b[0mmainloop\u001b[0m\u001b[1;33m(\u001b[0m\u001b[1;33m)\u001b[0m\u001b[1;33m\u001b[0m\u001b[0m\n\u001b[0m\u001b[0;32m     72\u001b[0m \u001b[1;33m\u001b[0m\u001b[0m\n\u001b[0;32m     73\u001b[0m \u001b[0mshow\u001b[0m \u001b[1;33m=\u001b[0m \u001b[0mShow\u001b[0m\u001b[1;33m(\u001b[0m\u001b[1;33m)\u001b[0m\u001b[1;33m\u001b[0m\u001b[0m\n",
      "\u001b[1;32m/home/vishnu/anaconda3/lib/python3.5/tkinter/__init__.py\u001b[0m in \u001b[0;36mmainloop\u001b[1;34m(n)\u001b[0m\n\u001b[0;32m    403\u001b[0m \u001b[1;32mdef\u001b[0m \u001b[0mmainloop\u001b[0m\u001b[1;33m(\u001b[0m\u001b[0mn\u001b[0m\u001b[1;33m=\u001b[0m\u001b[1;36m0\u001b[0m\u001b[1;33m)\u001b[0m\u001b[1;33m:\u001b[0m\u001b[1;33m\u001b[0m\u001b[0m\n\u001b[0;32m    404\u001b[0m     \u001b[1;34m\"\"\"Run the main loop of Tcl.\"\"\"\u001b[0m\u001b[1;33m\u001b[0m\u001b[0m\n\u001b[1;32m--> 405\u001b[1;33m     \u001b[0m_default_root\u001b[0m\u001b[1;33m.\u001b[0m\u001b[0mtk\u001b[0m\u001b[1;33m.\u001b[0m\u001b[0mmainloop\u001b[0m\u001b[1;33m(\u001b[0m\u001b[0mn\u001b[0m\u001b[1;33m)\u001b[0m\u001b[1;33m\u001b[0m\u001b[0m\n\u001b[0m\u001b[0;32m    406\u001b[0m \u001b[1;33m\u001b[0m\u001b[0m\n\u001b[0;32m    407\u001b[0m \u001b[0mgetint\u001b[0m \u001b[1;33m=\u001b[0m \u001b[0mint\u001b[0m\u001b[1;33m\u001b[0m\u001b[0m\n",
      "\u001b[1;31mKeyboardInterrupt\u001b[0m: "
     ]
    }
   ],
   "source": [
    "import matplotlib.pyplot as plt\n",
    "\n",
    "# plot linear model\n",
    "aVar = arrX[2][0][9999]\n",
    "bVar = arrX[2][1][9999]\n",
    "yVar = np.dot(Xnor,aVar)+ bVar\n",
    "plt.scatter(Ynor, yVar, color = 'r')\n",
    "plt.ylabel('Predicted Price ')\n",
    "plt.xlabel('Actual Price ')\n",
    "plt.title('Predicted Price Vs Actual Price for X model')\n",
    "plt.show()"
   ]
  },
  {
   "cell_type": "markdown",
   "metadata": {
    "collapsed": true
   },
   "source": [
    "<b>Reason for straight line :-</b>\n",
    "We don't get a straight line here, but it looks like the angle could be if possible a 60 degree. Which signifies that for a given actual price the predicted price is going to be a little more higher."
   ]
  },
  {
   "cell_type": "code",
   "execution_count": null,
   "metadata": {
    "collapsed": true
   },
   "outputs": [],
   "source": [
    "<b> Try different alpha values for Ridge </b>\n"
   ]
  },
  {
   "cell_type": "code",
   "execution_count": 44,
   "metadata": {
    "collapsed": false
   },
   "outputs": [
    {
     "name": "stderr",
     "output_type": "stream",
     "text": [
      "/home/vishnu/anaconda3/lib/python3.5/site-packages/ipykernel/__main__.py:21: RuntimeWarning: overflow encountered in square\n",
      "/home/vishnu/anaconda3/lib/python3.5/site-packages/ipykernel/__main__.py:21: RuntimeWarning: overflow encountered in double_scalars\n"
     ]
    }
   ],
   "source": [
    "arrX = np.array((linear_regression_Ridge(Xnor, Ynor, 10,0.1, 10000), linear_regression_Ridge(Xnor, Ynor, 1,0.01, 10000),\n",
    "                      linear_regression_Ridge(Xnor, Ynor, 0.1,0.001 , 10000), linear_regression_Ridge(Xnor, Ynor, 0.0001, 0.0001, 10000),\n",
    "                      linear_regression_Ridge(Xnor, Ynor, 0.001, 0.00001, 10000)), dtype = object )"
   ]
  },
  {
   "cell_type": "code",
   "execution_count": null,
   "metadata": {
    "collapsed": true
   },
   "outputs": [],
   "source": [
    "import matplotlib.pyplot as plt\n",
    "import itertools\n",
    "\n",
    "alpha = (0.1, 0.01, 0.001, 0.0001, 0.00001)\n",
    "\n",
    "count = 1\n",
    "for i in range(5):\n",
    "        plt.subplot(int(str(23) +''+ str(count)))\n",
    "        plt.plot(range(10000), arrX[i][2], color = 'b')\n",
    "        plt.ylabel('Loss')\n",
    "        plt.xlabel('Iterations')\n",
    "        plt.title('MSE Values for lr as ' + str(lr[i]))\n",
    "        plt.subplots_adjust( hspace= 0.5 )\n",
    "        count+=1\n",
    "plt.show()"
   ]
  },
  {
   "cell_type": "code",
   "execution_count": 41,
   "metadata": {
    "collapsed": true
   },
   "outputs": [],
   "source": [
    "from pylab import *\n",
    "import numpy as np\n",
    "from mpl_toolkits.mplot3d import Axes3D\n",
    "\n",
    "def linear_regression_LASSO(pred_values, target_values, lr, alpha, No_Itr):\n",
    "    N = len(pred_values)\n",
    "    noCol = len(pred_values.columns)\n",
    "    arr = np.ndarray((1,noCol), dtype = float)\n",
    "    for i in range(noCol):\n",
    "        arr[0][i]= np.random.rand()\n",
    "    a = np.array(arr, dtype = float)\n",
    "    b = np.array([np.random.rand()], dtype = float)\n",
    "    L = np.array([])\n",
    "    out = np.array(target_values, dtype = float).reshape(N,1)\n",
    "    for iter in range(No_Itr):\n",
    "        paramsDotX = np.array((np.dot(pred_values, a[-1].T)), dtype = float).reshape(N,1) \n",
    "        y = paramsDotX + b[-1]\n",
    "        diffY = y-out\n",
    "        diffYY = np.dot(diffY.T,pred_values)\n",
    "        a = np.append(a,[a[-1] - lr*(1/N)*np.sum(diffYY) - alpha*(np.sign(a[-1])) ], 0)\n",
    "        b = np.append(b,[b[-1] - lr*(1/N)*np.sum(diffY) - alpha*(np.sign(b[-1])) ], 0)\n",
    "        L = np.append(L, (1/N)*np.sum(diffY**2) + 2*alpha*(np.sum(np.abs(a[-1]) + np.abs(b[-1]))))\n",
    "    return (a,b,L)"
   ]
  },
  {
   "cell_type": "code",
   "execution_count": null,
   "metadata": {
    "collapsed": false
   },
   "outputs": [],
   "source": [
    "outXL = linear_regression_LASSO(Xnor, Ynor, 0.1, 0.0001, 10000)\n",
    "outX_1L = linear_regression_LASSO(X_1nor, Ynor, 0.1, 0.001, 10000)"
   ]
  },
  {
   "cell_type": "code",
   "execution_count": null,
   "metadata": {
    "collapsed": false
   },
   "outputs": [],
   "source": [
    "print('Predictions of the 2 models :-')\n",
    "y_pred_X   = predict(outXL[0][-1], outXL[1][-1], Xnor)\n",
    "y_pred_X_1 = predict(outX_1L[0][-1], outX_1L[1][-1], X_1nor)\n",
    "\n",
    "print('MSE of the 2 models :-')\n",
    "MSE_X = np.sum((y_pred_X - Ynor)**2)\n",
    "MSE_X_1 = np.sum((y_pred_X_1 - Ynor)**2)\n",
    "print(MSE_X)\n",
    "print(MSE_X_1)\n",
    "\n",
    "plt.loglog(range(10000), outXL[2], color = 'b')\n",
    "plt.loglog(range(10000), outX_1L[2], color = 'r')\n",
    "plt.ylabel('Loss')\n",
    "plt.xlabel('Iterations')\n",
    "plt.title('Loss comparison among 2 models')\n",
    "plt.show()"
   ]
  },
  {
   "cell_type": "markdown",
   "metadata": {},
   "source": [
    "### Try different learning rates (10, 1, 0.1, 0.01, and 0.001) and compare and show the results."
   ]
  },
  {
   "cell_type": "code",
   "execution_count": null,
   "metadata": {
    "collapsed": false
   },
   "outputs": [],
   "source": [
    "arrX = np.array((linear_regression_LASSO(Xnor, Ynor, 10,0.0001, 10000), linear_regression_LASSO(Xnor, Ynor, 1,0.0001, 10000),\n",
    "                      linear_regression_LASSO(Xnor, Ynor, 0.1,0.0001 , 10000), linear_regression_LASSO(Xnor, Ynor, 0.01, 0.0001, 10000),\n",
    "                      linear_regression_LASSO(Xnor, Ynor, 0.001, 0.0001, 10000)), dtype = object )\n",
    "\n",
    "arrX_1 = np.array((linear_regression_LASSO(X_1nor, Ynor, 10, 0.0001, 10000), linear_regression_LASSO(X_1nor, Ynor, 1, 0.0001, 10000),\n",
    "                      linear_regression_LASSO(X_1nor, Ynor, 0.1, 0.0001, 10000), linear_regression_LASSO(X_1nor, Ynor, 0.01, 0.0001, 10000),\n",
    "                      linear_regression_LASSO(X_1nor, Ynor, 0.001, 0.0001, 10000)) , dtype = object)"
   ]
  },
  {
   "cell_type": "code",
   "execution_count": null,
   "metadata": {
    "collapsed": false
   },
   "outputs": [],
   "source": [
    "import matplotlib.pyplot as plt\n",
    "import itertools\n",
    "\n",
    "lr = (10, 1, 0.1, 0.01, 0.001)\n",
    "\n",
    "count = 1\n",
    "for i in range(5):\n",
    "        plt.subplot(int(str(23) +''+ str(count)))\n",
    "        plt.plot(range(10000), arrX[i][2], color = 'b')\n",
    "        plt.plot(range(10000), arrX_1[i][2], color = 'r')\n",
    "        plt.ylabel('Loss')\n",
    "        plt.xlabel('Iterations')\n",
    "        plt.title('MSE Values for lr as ' + str(lr[i]))\n",
    "        plt.subplots_adjust( hspace= 0.5 )\n",
    "        count+=1\n",
    "plt.show()"
   ]
  },
  {
   "cell_type": "markdown",
   "metadata": {},
   "source": [
    "<b><br>Visualize the best-obtained model for X_1 using a scatter plot to show\n",
    "price vs area and plot the linear model.</br> </b>"
   ]
  },
  {
   "cell_type": "code",
   "execution_count": null,
   "metadata": {
    "collapsed": false
   },
   "outputs": [],
   "source": [
    "import matplotlib.pyplot as plt\n",
    "\n",
    "# plot linear model\n",
    "aVar = arrX_1[2][0][9999]\n",
    "bVar = arrX_1[2][1][9999]\n",
    "yVar = np.dot(X_1nor,aVar)+ bVar\n",
    "plt.plot(X_1nor, yVar, color = 'b')\n",
    "plt.scatter(X_1nor, Ynor, color = 'r')\n",
    "plt.ylabel('Predicted Price ')\n",
    "plt.xlabel('Area ')\n",
    "plt.title('Predicted Price Vs Area for X_1 model')\n",
    "plt.show()"
   ]
  },
  {
   "cell_type": "markdown",
   "metadata": {
    "collapsed": true
   },
   "source": [
    "<b><br>Then, visualize the best-obtained model for all features (X) using\n",
    "a scatter plot to show the predicted vs actual target values.</br>\n",
    "<br>Does the scatter plot create a linear line? Why?</br></b>"
   ]
  },
  {
   "cell_type": "code",
   "execution_count": 39,
   "metadata": {
    "collapsed": false
   },
   "outputs": [
    {
     "ename": "KeyboardInterrupt",
     "evalue": "",
     "output_type": "error",
     "traceback": [
      "\u001b[1;31m---------------------------------------------------------------------------\u001b[0m",
      "\u001b[1;31mKeyboardInterrupt\u001b[0m                         Traceback (most recent call last)",
      "\u001b[1;32m<ipython-input-39-4362fb942c82>\u001b[0m in \u001b[0;36m<module>\u001b[1;34m()\u001b[0m\n\u001b[0;32m      9\u001b[0m \u001b[0mplt\u001b[0m\u001b[1;33m.\u001b[0m\u001b[0mxlabel\u001b[0m\u001b[1;33m(\u001b[0m\u001b[1;34m'Actual Price '\u001b[0m\u001b[1;33m)\u001b[0m\u001b[1;33m\u001b[0m\u001b[0m\n\u001b[0;32m     10\u001b[0m \u001b[0mplt\u001b[0m\u001b[1;33m.\u001b[0m\u001b[0mtitle\u001b[0m\u001b[1;33m(\u001b[0m\u001b[1;34m'Predicted Price Vs Actual Price for X model'\u001b[0m\u001b[1;33m)\u001b[0m\u001b[1;33m\u001b[0m\u001b[0m\n\u001b[1;32m---> 11\u001b[1;33m \u001b[0mplt\u001b[0m\u001b[1;33m.\u001b[0m\u001b[0mshow\u001b[0m\u001b[1;33m(\u001b[0m\u001b[1;33m)\u001b[0m\u001b[1;33m\u001b[0m\u001b[0m\n\u001b[0m",
      "\u001b[1;32m/home/vishnu/anaconda3/lib/python3.5/site-packages/matplotlib/pyplot.py\u001b[0m in \u001b[0;36mshow\u001b[1;34m(*args, **kw)\u001b[0m\n\u001b[0;32m    251\u001b[0m     \"\"\"\n\u001b[0;32m    252\u001b[0m     \u001b[1;32mglobal\u001b[0m \u001b[0m_show\u001b[0m\u001b[1;33m\u001b[0m\u001b[0m\n\u001b[1;32m--> 253\u001b[1;33m     \u001b[1;32mreturn\u001b[0m \u001b[0m_show\u001b[0m\u001b[1;33m(\u001b[0m\u001b[1;33m*\u001b[0m\u001b[0margs\u001b[0m\u001b[1;33m,\u001b[0m \u001b[1;33m**\u001b[0m\u001b[0mkw\u001b[0m\u001b[1;33m)\u001b[0m\u001b[1;33m\u001b[0m\u001b[0m\n\u001b[0m\u001b[0;32m    254\u001b[0m \u001b[1;33m\u001b[0m\u001b[0m\n\u001b[0;32m    255\u001b[0m \u001b[1;33m\u001b[0m\u001b[0m\n",
      "\u001b[1;32m/home/vishnu/anaconda3/lib/python3.5/site-packages/matplotlib/backend_bases.py\u001b[0m in \u001b[0;36m__call__\u001b[1;34m(self, block)\u001b[0m\n\u001b[0;32m    191\u001b[0m \u001b[1;33m\u001b[0m\u001b[0m\n\u001b[0;32m    192\u001b[0m         \u001b[1;32mif\u001b[0m \u001b[1;32mnot\u001b[0m \u001b[0mis_interactive\u001b[0m\u001b[1;33m(\u001b[0m\u001b[1;33m)\u001b[0m \u001b[1;32mor\u001b[0m \u001b[0mget_backend\u001b[0m\u001b[1;33m(\u001b[0m\u001b[1;33m)\u001b[0m \u001b[1;33m==\u001b[0m \u001b[1;34m'WebAgg'\u001b[0m\u001b[1;33m:\u001b[0m\u001b[1;33m\u001b[0m\u001b[0m\n\u001b[1;32m--> 193\u001b[1;33m             \u001b[0mself\u001b[0m\u001b[1;33m.\u001b[0m\u001b[0mmainloop\u001b[0m\u001b[1;33m(\u001b[0m\u001b[1;33m)\u001b[0m\u001b[1;33m\u001b[0m\u001b[0m\n\u001b[0m\u001b[0;32m    194\u001b[0m \u001b[1;33m\u001b[0m\u001b[0m\n\u001b[0;32m    195\u001b[0m     \u001b[1;32mdef\u001b[0m \u001b[0mmainloop\u001b[0m\u001b[1;33m(\u001b[0m\u001b[0mself\u001b[0m\u001b[1;33m)\u001b[0m\u001b[1;33m:\u001b[0m\u001b[1;33m\u001b[0m\u001b[0m\n",
      "\u001b[1;32m/home/vishnu/anaconda3/lib/python3.5/site-packages/matplotlib/backends/backend_tkagg.py\u001b[0m in \u001b[0;36mmainloop\u001b[1;34m(self)\u001b[0m\n\u001b[0;32m     69\u001b[0m \u001b[1;32mclass\u001b[0m \u001b[0mShow\u001b[0m\u001b[1;33m(\u001b[0m\u001b[0mShowBase\u001b[0m\u001b[1;33m)\u001b[0m\u001b[1;33m:\u001b[0m\u001b[1;33m\u001b[0m\u001b[0m\n\u001b[0;32m     70\u001b[0m     \u001b[1;32mdef\u001b[0m \u001b[0mmainloop\u001b[0m\u001b[1;33m(\u001b[0m\u001b[0mself\u001b[0m\u001b[1;33m)\u001b[0m\u001b[1;33m:\u001b[0m\u001b[1;33m\u001b[0m\u001b[0m\n\u001b[1;32m---> 71\u001b[1;33m         \u001b[0mTk\u001b[0m\u001b[1;33m.\u001b[0m\u001b[0mmainloop\u001b[0m\u001b[1;33m(\u001b[0m\u001b[1;33m)\u001b[0m\u001b[1;33m\u001b[0m\u001b[0m\n\u001b[0m\u001b[0;32m     72\u001b[0m \u001b[1;33m\u001b[0m\u001b[0m\n\u001b[0;32m     73\u001b[0m \u001b[0mshow\u001b[0m \u001b[1;33m=\u001b[0m \u001b[0mShow\u001b[0m\u001b[1;33m(\u001b[0m\u001b[1;33m)\u001b[0m\u001b[1;33m\u001b[0m\u001b[0m\n",
      "\u001b[1;32m/home/vishnu/anaconda3/lib/python3.5/tkinter/__init__.py\u001b[0m in \u001b[0;36mmainloop\u001b[1;34m(n)\u001b[0m\n\u001b[0;32m    403\u001b[0m \u001b[1;32mdef\u001b[0m \u001b[0mmainloop\u001b[0m\u001b[1;33m(\u001b[0m\u001b[0mn\u001b[0m\u001b[1;33m=\u001b[0m\u001b[1;36m0\u001b[0m\u001b[1;33m)\u001b[0m\u001b[1;33m:\u001b[0m\u001b[1;33m\u001b[0m\u001b[0m\n\u001b[0;32m    404\u001b[0m     \u001b[1;34m\"\"\"Run the main loop of Tcl.\"\"\"\u001b[0m\u001b[1;33m\u001b[0m\u001b[0m\n\u001b[1;32m--> 405\u001b[1;33m     \u001b[0m_default_root\u001b[0m\u001b[1;33m.\u001b[0m\u001b[0mtk\u001b[0m\u001b[1;33m.\u001b[0m\u001b[0mmainloop\u001b[0m\u001b[1;33m(\u001b[0m\u001b[0mn\u001b[0m\u001b[1;33m)\u001b[0m\u001b[1;33m\u001b[0m\u001b[0m\n\u001b[0m\u001b[0;32m    406\u001b[0m \u001b[1;33m\u001b[0m\u001b[0m\n\u001b[0;32m    407\u001b[0m \u001b[0mgetint\u001b[0m \u001b[1;33m=\u001b[0m \u001b[0mint\u001b[0m\u001b[1;33m\u001b[0m\u001b[0m\n",
      "\u001b[1;31mKeyboardInterrupt\u001b[0m: "
     ]
    }
   ],
   "source": [
    "import matplotlib.pyplot as plt\n",
    "\n",
    "# plot linear model\n",
    "aVar = arrX[2][0][9999]\n",
    "bVar = arrX[2][1][9999]\n",
    "yVar = np.dot(Xnor,aVar)+ bVar\n",
    "plt.scatter(Ynor, yVar, color = 'r')\n",
    "plt.ylabel('Predicted Price ')\n",
    "plt.xlabel('Actual Price ')\n",
    "plt.title('Predicted Price Vs Actual Price for X model')\n",
    "plt.show()"
   ]
  },
  {
   "cell_type": "markdown",
   "metadata": {
    "collapsed": true
   },
   "source": [
    "<b>Reason for straight line :-</b>\n",
    "We don't get a straight line here, but it looks like the angle could be if possible a 60 degree. Which signifies that for a given actual price the predicted price is going to be a little more higher."
   ]
  },
  {
   "cell_type": "markdown",
   "metadata": {
    "collapsed": true
   },
   "source": [
    "<b> Try different alpha values for LASSO </b>"
   ]
  },
  {
   "cell_type": "code",
   "execution_count": 42,
   "metadata": {
    "collapsed": false
   },
   "outputs": [
    {
     "name": "stderr",
     "output_type": "stream",
     "text": [
      "/home/vishnu/anaconda3/lib/python3.5/site-packages/ipykernel/__main__.py:22: RuntimeWarning: overflow encountered in square\n"
     ]
    }
   ],
   "source": [
    "<b> Try different alpha values for LASSO </b>\n",
    "arrX = np.array((linear_regression_LASSO(Xnor, Ynor, 10,0.1, 10000), linear_regression_LASSO(Xnor, Ynor, 1,0.01, 10000),\n",
    "                      linear_regression_LASSO(Xnor, Ynor, 0.1,0.001 , 10000), linear_regression_LASSO(Xnor, Ynor, 0.0001, 0.0001, 10000),\n",
    "                      linear_regression_LASSO(Xnor, Ynor, 0.001, 0.00001, 10000)), dtype = object )\n",
    "import matplotlib.pyplot as plt\n",
    "import itertools\n",
    "\n",
    "alpha = (0.1, 0.01, 0.001, 0.0001, 0.00001)\n",
    "\n",
    "count = 1\n",
    "for i in range(5):\n",
    "        plt.subplot(int(str(23) +''+ str(count)))\n",
    "        plt.plot(range(10000), arrX[i][2], color = 'b')\n",
    "        plt.ylabel('Loss')\n",
    "        plt.xlabel('Iterations')\n",
    "        plt.title('MSE Values for lr as ' + str(lr[i]))\n",
    "        plt.subplots_adjust( hspace= 0.5 )\n",
    "        count+=1\n",
    "plt.show()"
   ]
  },
  {
   "cell_type": "code",
   "execution_count": 43,
   "metadata": {
    "collapsed": false
   },
   "outputs": [
    {
     "ename": "KeyboardInterrupt",
     "evalue": "",
     "output_type": "error",
     "traceback": [
      "\u001b[1;31m---------------------------------------------------------------------------\u001b[0m",
      "\u001b[1;31mKeyboardInterrupt\u001b[0m                         Traceback (most recent call last)",
      "\u001b[1;32m<ipython-input-43-7b7ea95ba49c>\u001b[0m in \u001b[0;36m<module>\u001b[1;34m()\u001b[0m\n\u001b[0;32m     13\u001b[0m         \u001b[0mplt\u001b[0m\u001b[1;33m.\u001b[0m\u001b[0msubplots_adjust\u001b[0m\u001b[1;33m(\u001b[0m \u001b[0mhspace\u001b[0m\u001b[1;33m=\u001b[0m \u001b[1;36m0.5\u001b[0m \u001b[1;33m)\u001b[0m\u001b[1;33m\u001b[0m\u001b[0m\n\u001b[0;32m     14\u001b[0m         \u001b[0mcount\u001b[0m\u001b[1;33m+=\u001b[0m\u001b[1;36m1\u001b[0m\u001b[1;33m\u001b[0m\u001b[0m\n\u001b[1;32m---> 15\u001b[1;33m \u001b[0mplt\u001b[0m\u001b[1;33m.\u001b[0m\u001b[0mshow\u001b[0m\u001b[1;33m(\u001b[0m\u001b[1;33m)\u001b[0m\u001b[1;33m\u001b[0m\u001b[0m\n\u001b[0m",
      "\u001b[1;32m/home/vishnu/anaconda3/lib/python3.5/site-packages/matplotlib/pyplot.py\u001b[0m in \u001b[0;36mshow\u001b[1;34m(*args, **kw)\u001b[0m\n\u001b[0;32m    251\u001b[0m     \"\"\"\n\u001b[0;32m    252\u001b[0m     \u001b[1;32mglobal\u001b[0m \u001b[0m_show\u001b[0m\u001b[1;33m\u001b[0m\u001b[0m\n\u001b[1;32m--> 253\u001b[1;33m     \u001b[1;32mreturn\u001b[0m \u001b[0m_show\u001b[0m\u001b[1;33m(\u001b[0m\u001b[1;33m*\u001b[0m\u001b[0margs\u001b[0m\u001b[1;33m,\u001b[0m \u001b[1;33m**\u001b[0m\u001b[0mkw\u001b[0m\u001b[1;33m)\u001b[0m\u001b[1;33m\u001b[0m\u001b[0m\n\u001b[0m\u001b[0;32m    254\u001b[0m \u001b[1;33m\u001b[0m\u001b[0m\n\u001b[0;32m    255\u001b[0m \u001b[1;33m\u001b[0m\u001b[0m\n",
      "\u001b[1;32m/home/vishnu/anaconda3/lib/python3.5/site-packages/matplotlib/backend_bases.py\u001b[0m in \u001b[0;36m__call__\u001b[1;34m(self, block)\u001b[0m\n\u001b[0;32m    191\u001b[0m \u001b[1;33m\u001b[0m\u001b[0m\n\u001b[0;32m    192\u001b[0m         \u001b[1;32mif\u001b[0m \u001b[1;32mnot\u001b[0m \u001b[0mis_interactive\u001b[0m\u001b[1;33m(\u001b[0m\u001b[1;33m)\u001b[0m \u001b[1;32mor\u001b[0m \u001b[0mget_backend\u001b[0m\u001b[1;33m(\u001b[0m\u001b[1;33m)\u001b[0m \u001b[1;33m==\u001b[0m \u001b[1;34m'WebAgg'\u001b[0m\u001b[1;33m:\u001b[0m\u001b[1;33m\u001b[0m\u001b[0m\n\u001b[1;32m--> 193\u001b[1;33m             \u001b[0mself\u001b[0m\u001b[1;33m.\u001b[0m\u001b[0mmainloop\u001b[0m\u001b[1;33m(\u001b[0m\u001b[1;33m)\u001b[0m\u001b[1;33m\u001b[0m\u001b[0m\n\u001b[0m\u001b[0;32m    194\u001b[0m \u001b[1;33m\u001b[0m\u001b[0m\n\u001b[0;32m    195\u001b[0m     \u001b[1;32mdef\u001b[0m \u001b[0mmainloop\u001b[0m\u001b[1;33m(\u001b[0m\u001b[0mself\u001b[0m\u001b[1;33m)\u001b[0m\u001b[1;33m:\u001b[0m\u001b[1;33m\u001b[0m\u001b[0m\n",
      "\u001b[1;32m/home/vishnu/anaconda3/lib/python3.5/site-packages/matplotlib/backends/backend_tkagg.py\u001b[0m in \u001b[0;36mmainloop\u001b[1;34m(self)\u001b[0m\n\u001b[0;32m     69\u001b[0m \u001b[1;32mclass\u001b[0m \u001b[0mShow\u001b[0m\u001b[1;33m(\u001b[0m\u001b[0mShowBase\u001b[0m\u001b[1;33m)\u001b[0m\u001b[1;33m:\u001b[0m\u001b[1;33m\u001b[0m\u001b[0m\n\u001b[0;32m     70\u001b[0m     \u001b[1;32mdef\u001b[0m \u001b[0mmainloop\u001b[0m\u001b[1;33m(\u001b[0m\u001b[0mself\u001b[0m\u001b[1;33m)\u001b[0m\u001b[1;33m:\u001b[0m\u001b[1;33m\u001b[0m\u001b[0m\n\u001b[1;32m---> 71\u001b[1;33m         \u001b[0mTk\u001b[0m\u001b[1;33m.\u001b[0m\u001b[0mmainloop\u001b[0m\u001b[1;33m(\u001b[0m\u001b[1;33m)\u001b[0m\u001b[1;33m\u001b[0m\u001b[0m\n\u001b[0m\u001b[0;32m     72\u001b[0m \u001b[1;33m\u001b[0m\u001b[0m\n\u001b[0;32m     73\u001b[0m \u001b[0mshow\u001b[0m \u001b[1;33m=\u001b[0m \u001b[0mShow\u001b[0m\u001b[1;33m(\u001b[0m\u001b[1;33m)\u001b[0m\u001b[1;33m\u001b[0m\u001b[0m\n",
      "\u001b[1;32m/home/vishnu/anaconda3/lib/python3.5/tkinter/__init__.py\u001b[0m in \u001b[0;36mmainloop\u001b[1;34m(n)\u001b[0m\n\u001b[0;32m    403\u001b[0m \u001b[1;32mdef\u001b[0m \u001b[0mmainloop\u001b[0m\u001b[1;33m(\u001b[0m\u001b[0mn\u001b[0m\u001b[1;33m=\u001b[0m\u001b[1;36m0\u001b[0m\u001b[1;33m)\u001b[0m\u001b[1;33m:\u001b[0m\u001b[1;33m\u001b[0m\u001b[0m\n\u001b[0;32m    404\u001b[0m     \u001b[1;34m\"\"\"Run the main loop of Tcl.\"\"\"\u001b[0m\u001b[1;33m\u001b[0m\u001b[0m\n\u001b[1;32m--> 405\u001b[1;33m     \u001b[0m_default_root\u001b[0m\u001b[1;33m.\u001b[0m\u001b[0mtk\u001b[0m\u001b[1;33m.\u001b[0m\u001b[0mmainloop\u001b[0m\u001b[1;33m(\u001b[0m\u001b[0mn\u001b[0m\u001b[1;33m)\u001b[0m\u001b[1;33m\u001b[0m\u001b[0m\n\u001b[0m\u001b[0;32m    406\u001b[0m \u001b[1;33m\u001b[0m\u001b[0m\n\u001b[0;32m    407\u001b[0m \u001b[0mgetint\u001b[0m \u001b[1;33m=\u001b[0m \u001b[0mint\u001b[0m\u001b[1;33m\u001b[0m\u001b[0m\n",
      "\u001b[1;31mKeyboardInterrupt\u001b[0m: "
     ]
    }
   ],
   "source": [
    "import matplotlib.pyplot as plt\n",
    "import itertools\n",
    "\n",
    "alpha = (0.1, 0.01, 0.001, 0.0001, 0.00001)\n",
    "\n",
    "count = 1\n",
    "for i in range(5):\n",
    "        plt.subplot(int(str(23) +''+ str(count)))\n",
    "        plt.plot(range(10000), arrX[i][2], color = 'b')\n",
    "        plt.ylabel('Loss')\n",
    "        plt.xlabel('Iterations')\n",
    "        plt.title('MSE Values for lr as ' + str(lr[i]))\n",
    "        plt.subplots_adjust( hspace= 0.5 )\n",
    "        count+=1\n",
    "plt.show()"
   ]
  },
  {
   "cell_type": "markdown",
   "metadata": {},
   "source": [
    "### Section 1.5"
   ]
  },
  {
   "cell_type": "markdown",
   "metadata": {},
   "source": [
    "Use linear_regression_LASSO and write a function named\n",
    "linear_regression_LASSO_momentum in which you add a momentum term. Try different\n",
    "momenta (0.1, 0.5, 0.7, and 0.9) and plot the learning curves with and without momentum for a fixed\n",
    "learning rate."
   ]
  },
  {
   "cell_type": "code",
   "execution_count": null,
   "metadata": {
    "collapsed": false
   },
   "outputs": [],
   "source": [
    "# Lasso Regression\n",
    "#linear_regression_LASSO\n",
    "from pylab import *\n",
    "import numpy as np\n",
    "from mpl_toolkits.mplot3d import Axes3D\n",
    "\n",
    "def linear_regression_LASSO_momentum(pred_values, target_values,lr ,alpha, No_Itr, momentum):  \n",
    "    N = len(pred_values)\n",
    "    noCol = len(pred_values.columns)\n",
    "    arr = np.ndarray((1,noCol), dtype = float)\n",
    "    for i in range(noCol):\n",
    "        arr[0][i]=-1\n",
    "    arrZ = np.ndarray((1,noCol), dtype = float)\n",
    "    for i in range(noCol):\n",
    "        arrZ[0][i]=0    \n",
    "    a = np.array(arr, dtype = float)\n",
    "    b = np.array([-1], dtype = float)\n",
    "    L = np.array([])\n",
    "    mValA = np.array(arrZ, dtype = float)\n",
    "    mValB = 0\n",
    "    out = np.array(target_values, dtype = float).reshape(N,1)\n",
    "    for iter in range(No_Itr):\n",
    "        paramsDotX = np.array((np.dot(pred_values, a[-1].T)), dtype = float).reshape(N,1) \n",
    "        y = paramsDotX + b[-1]\n",
    "        diffY = y-out\n",
    "        diffYY = np.dot(diffY.T,pred_values)\n",
    "        a = np.append(a,[a[-1] - lr*(1/N)*np.sum(diffYY) - alpha*(np.sign(a[-1])) + mValA[-1]], 0)\n",
    "        b = np.append(b,[b[-1] - lr*(1/N)*np.sum(diffY) - alpha*(np.sign(b[-1])) + mValB], 0)\n",
    "        L = np.append(L, (1/N)*np.sum(diffY**2) + alpha*(np.sum(np.abs(a[-1])) + np.abs(b[-1])))\n",
    "        mValA[-1] = momentum*(a[-1] - a[-2])\n",
    "        mValB = momentum*(b[-1] - b[-2])\n",
    "    return (a,b,L)"
   ]
  },
  {
   "cell_type": "code",
   "execution_count": null,
   "metadata": {
    "collapsed": false
   },
   "outputs": [],
   "source": [
    "outM1 = linear_regression_LASSO_momentum(Xnor, Ynor, 0.1,0.0001, 10000,0.1)[2]\n",
    "outM2 = linear_regression_LASSO_momentum(Xnor, Ynor, 0.1,0.0001, 10000,0.5)[2]\n",
    "outM3 = linear_regression_LASSO_momentum(Xnor, Ynor, 0.1,0.0001, 10000,0.7)[2]\n",
    "outM4 = linear_regression_LASSO_momentum(Xnor, Ynor, 0.1,0.0001, 10000,0.9)[2]\n",
    "outL  = linear_regression_LASSO(Xnor, Ynor, 0.1,0.0001, 10000)[2]\n",
    "\n",
    "arrr  = np.array([outM1, outM2, outM3, outM4], dtype = object )"
   ]
  },
  {
   "cell_type": "code",
   "execution_count": null,
   "metadata": {
    "collapsed": false
   },
   "outputs": [],
   "source": [
    "import matplotlib.pyplot as plt\n",
    "import itertools\n",
    "\n",
    "# for loop to get a multidimensional array with 6 rows\n",
    "count = 1\n",
    "for i in range(4):\n",
    "        plt.subplot(int(str(22) +''+ str(count)))\n",
    "        plt.plot(range(10000), arrr[i], color = 'b')\n",
    "        plt.plot(range(10000), outL, color = 'r')\n",
    "        plt.ylabel('Loss')\n",
    "        plt.xlabel('Iterations')\n",
    "        plt.title('Loss comparison among 2 models')\n",
    "        plt.subplots_adjust( hspace= 0.5 )\n",
    "        count+=1\n",
    "plt.show()"
   ]
  },
  {
   "cell_type": "markdown",
   "metadata": {},
   "source": [
    "### Section 1.6 "
   ]
  },
  {
   "cell_type": "markdown",
   "metadata": {},
   "source": [
    "Modify the linear_regression_LASSO_momentum function in\n",
    "a way that it fits the feature vector X_1 with a polynomial of order 2 and name it as\n",
    "polynomial_regression_optimized. Calculate the MSE, plot the learning curve and show\n",
    "the quadratic model on the scatter plot (price vs area)."
   ]
  },
  {
   "cell_type": "code",
   "execution_count": null,
   "metadata": {
    "collapsed": false
   },
   "outputs": [],
   "source": [
    "# Lasso Regression\n",
    "# polynomial_regression_optimized\n",
    "from pylab import *\n",
    "import numpy as np\n",
    "from mpl_toolkits.mplot3d import Axes3D\n",
    "\n",
    "def polynomial_regression_optimized(pred_values, target_values,lr ,alpha, No_Itr, momentum):  \n",
    "    col2 = pred_values**2\n",
    "    col1 = pred_values\n",
    "    # Concatenate both the columns\n",
    "    X_2 = np.hstack((col1, col2))\n",
    "    noCol = X_2.shape[1]\n",
    "    N = len(X_2)\n",
    "    arr = np.ndarray((1,noCol), dtype = float)\n",
    "    for i in range(noCol):\n",
    "        arr[0][i]=-1\n",
    "    arrZ = np.ndarray((1,noCol), dtype = float)\n",
    "    for i in range(noCol):\n",
    "        arrZ[0][i]=0    \n",
    "    a = np.array(arr, dtype = float)\n",
    "    b = np.array([-1], dtype = float)\n",
    "    L = np.array([])\n",
    "    mValA = np.array(arrZ, dtype = float)\n",
    "    mValB = 0\n",
    "    out = np.array(target_values, dtype = float).reshape(N,1)\n",
    "    for iter in range(No_Itr):\n",
    "        paramsDotX = np.array((np.dot(X_2, a[-1].T)), dtype = float).reshape(N,1) \n",
    "        y = paramsDotX + b[-1]\n",
    "        diffY = y-out\n",
    "        diffYY = np.dot(diffY.T,X_2)\n",
    "        a = np.append(a,[a[-1] - lr*(1/N)*np.sum(diffYY) - alpha*(np.sign(a[-1])) + mValA[-1]], 0)\n",
    "        b = np.append(b,[b[-1] - lr*(1/N)*np.sum(diffY) - alpha*(np.sign(b[-1])) + mValB], 0)\n",
    "        L = np.append(L, (1/N)*np.sum(diffY**2) + alpha*(np.sum(np.abs(a[-1])) + np.abs(b[-1])))\n",
    "        mValA[-1] = momentum*(a[-1] - a[-2])\n",
    "        mValB = momentum*(b[-1] - b[-2])\n",
    "    return (a,b,L)"
   ]
  },
  {
   "cell_type": "code",
   "execution_count": null,
   "metadata": {
    "collapsed": false
   },
   "outputs": [],
   "source": [
    "outM1 = polynomial_regression_optimized(X_1nor, Ynor, 0.1,0.0001, 10000,0.1)"
   ]
  },
  {
   "cell_type": "code",
   "execution_count": null,
   "metadata": {
    "collapsed": false
   },
   "outputs": [],
   "source": [
    "import matplotlib.pyplot as plt\n",
    "import itertools\n",
    "\n",
    "plt.plot(range(10000), outM1[2], color = 'r')\n",
    "plt.ylabel('MSE values')\n",
    "plt.xlabel('Iterations')\n",
    "plt.title('MSE Loss function values for polynomial_regression_optimized')\n",
    "plt.show()"
   ]
  },
  {
   "cell_type": "code",
   "execution_count": null,
   "metadata": {
    "collapsed": false
   },
   "outputs": [],
   "source": [
    "import matplotlib.pyplot as plt\n",
    "\n",
    "# plot linear model\n",
    "aVar = outM1[0][9999]\n",
    "bVar = outM1[1][9999]\n",
    "yVar = np.dot(np.hstack((X_1nor, X_1nor**2)),aVar)+ bVar\n",
    "\n",
    "plt.scatter(X_1nor, yVar, color = 'r')\n",
    "\n",
    "plt.ylabel('Price ')\n",
    "plt.xlabel('Area ')\n",
    "plt.title('Predicted Vs Actual Values')\n",
    "\n",
    "plt.show()"
   ]
  }
 ],
 "metadata": {
  "kernelspec": {
   "display_name": "Python 3",
   "language": "python",
   "name": "python3"
  },
  "language_info": {
   "codemirror_mode": {
    "name": "ipython",
    "version": 3
   },
   "file_extension": ".py",
   "mimetype": "text/x-python",
   "name": "python",
   "nbconvert_exporter": "python",
   "pygments_lexer": "ipython3",
   "version": "3.5.1"
  }
 },
 "nbformat": 4,
 "nbformat_minor": 2
}
